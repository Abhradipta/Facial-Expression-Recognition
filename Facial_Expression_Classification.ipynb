{
  "nbformat": 4,
  "nbformat_minor": 0,
  "metadata": {
    "accelerator": "GPU",
    "colab": {
      "name": "Facial_Expression_Classification.ipynb",
      "provenance": [],
      "collapsed_sections": []
    },
    "kernelspec": {
      "display_name": "Python 3",
      "language": "python",
      "name": "python3"
    },
    "language_info": {
      "codemirror_mode": {
        "name": "ipython",
        "version": 3
      },
      "file_extension": ".py",
      "mimetype": "text/x-python",
      "name": "python",
      "nbconvert_exporter": "python",
      "pygments_lexer": "ipython3",
      "version": "3.7.6"
    }
  },
  "cells": [
    {
      "cell_type": "markdown",
      "metadata": {
        "id": "M27qF7CTrBqc"
      },
      "source": [
        "<h1 align='center'> Facial Expression Classification </h1>\n"
      ]
    },
    {
      "cell_type": "markdown",
      "metadata": {
        "id": "gm5XNzpK1otp"
      },
      "source": [
        "<h2>Importing Libraries And Datasets</h2>"
      ]
    },
    {
      "cell_type": "code",
      "metadata": {
        "id": "B5MGY8IWMsYz",
        "outputId": "e09854f5-23b7-4bd7-c772-9fd783e7cb55",
        "colab": {
          "base_uri": "https://localhost:8080/",
          "height": 759
        }
      },
      "source": [
        "!pip install tensorflow==2.3.1"
      ],
      "execution_count": 3,
      "outputs": [
        {
          "output_type": "stream",
          "text": [
            "Collecting tensorflow==2.3.1\n",
            "\u001b[?25l  Downloading https://files.pythonhosted.org/packages/ad/ad/769c195c72ac72040635c66cd9ba7b0f4b4fc1ac67e59b99fa6988446c22/tensorflow-2.3.1-cp36-cp36m-manylinux2010_x86_64.whl (320.4MB)\n",
            "\u001b[K     |████████████████████████████████| 320.4MB 48kB/s \n",
            "\u001b[?25hRequirement already satisfied: h5py<2.11.0,>=2.10.0 in /usr/local/lib/python3.6/dist-packages (from tensorflow==2.3.1) (2.10.0)\n",
            "Requirement already satisfied: numpy<1.19.0,>=1.16.0 in /usr/local/lib/python3.6/dist-packages (from tensorflow==2.3.1) (1.18.5)\n",
            "Requirement already satisfied: opt-einsum>=2.3.2 in /usr/local/lib/python3.6/dist-packages (from tensorflow==2.3.1) (3.3.0)\n",
            "Requirement already satisfied: absl-py>=0.7.0 in /usr/local/lib/python3.6/dist-packages (from tensorflow==2.3.1) (0.10.0)\n",
            "Requirement already satisfied: tensorboard<3,>=2.3.0 in /usr/local/lib/python3.6/dist-packages (from tensorflow==2.3.1) (2.3.0)\n",
            "Requirement already satisfied: tensorflow-estimator<2.4.0,>=2.3.0 in /usr/local/lib/python3.6/dist-packages (from tensorflow==2.3.1) (2.3.0)\n",
            "Requirement already satisfied: wheel>=0.26 in /usr/local/lib/python3.6/dist-packages (from tensorflow==2.3.1) (0.35.1)\n",
            "Requirement already satisfied: keras-preprocessing<1.2,>=1.1.1 in /usr/local/lib/python3.6/dist-packages (from tensorflow==2.3.1) (1.1.2)\n",
            "Requirement already satisfied: astunparse==1.6.3 in /usr/local/lib/python3.6/dist-packages (from tensorflow==2.3.1) (1.6.3)\n",
            "Requirement already satisfied: six>=1.12.0 in /usr/local/lib/python3.6/dist-packages (from tensorflow==2.3.1) (1.15.0)\n",
            "Requirement already satisfied: wrapt>=1.11.1 in /usr/local/lib/python3.6/dist-packages (from tensorflow==2.3.1) (1.12.1)\n",
            "Requirement already satisfied: grpcio>=1.8.6 in /usr/local/lib/python3.6/dist-packages (from tensorflow==2.3.1) (1.32.0)\n",
            "Requirement already satisfied: google-pasta>=0.1.8 in /usr/local/lib/python3.6/dist-packages (from tensorflow==2.3.1) (0.2.0)\n",
            "Requirement already satisfied: gast==0.3.3 in /usr/local/lib/python3.6/dist-packages (from tensorflow==2.3.1) (0.3.3)\n",
            "Requirement already satisfied: termcolor>=1.1.0 in /usr/local/lib/python3.6/dist-packages (from tensorflow==2.3.1) (1.1.0)\n",
            "Requirement already satisfied: protobuf>=3.9.2 in /usr/local/lib/python3.6/dist-packages (from tensorflow==2.3.1) (3.12.4)\n",
            "Requirement already satisfied: google-auth<2,>=1.6.3 in /usr/local/lib/python3.6/dist-packages (from tensorboard<3,>=2.3.0->tensorflow==2.3.1) (1.17.2)\n",
            "Requirement already satisfied: setuptools>=41.0.0 in /usr/local/lib/python3.6/dist-packages (from tensorboard<3,>=2.3.0->tensorflow==2.3.1) (50.3.0)\n",
            "Requirement already satisfied: requests<3,>=2.21.0 in /usr/local/lib/python3.6/dist-packages (from tensorboard<3,>=2.3.0->tensorflow==2.3.1) (2.23.0)\n",
            "Requirement already satisfied: werkzeug>=0.11.15 in /usr/local/lib/python3.6/dist-packages (from tensorboard<3,>=2.3.0->tensorflow==2.3.1) (1.0.1)\n",
            "Requirement already satisfied: google-auth-oauthlib<0.5,>=0.4.1 in /usr/local/lib/python3.6/dist-packages (from tensorboard<3,>=2.3.0->tensorflow==2.3.1) (0.4.1)\n",
            "Requirement already satisfied: tensorboard-plugin-wit>=1.6.0 in /usr/local/lib/python3.6/dist-packages (from tensorboard<3,>=2.3.0->tensorflow==2.3.1) (1.7.0)\n",
            "Requirement already satisfied: markdown>=2.6.8 in /usr/local/lib/python3.6/dist-packages (from tensorboard<3,>=2.3.0->tensorflow==2.3.1) (3.2.2)\n",
            "Requirement already satisfied: cachetools<5.0,>=2.0.0 in /usr/local/lib/python3.6/dist-packages (from google-auth<2,>=1.6.3->tensorboard<3,>=2.3.0->tensorflow==2.3.1) (4.1.1)\n",
            "Requirement already satisfied: pyasn1-modules>=0.2.1 in /usr/local/lib/python3.6/dist-packages (from google-auth<2,>=1.6.3->tensorboard<3,>=2.3.0->tensorflow==2.3.1) (0.2.8)\n",
            "Requirement already satisfied: rsa<5,>=3.1.4; python_version >= \"3\" in /usr/local/lib/python3.6/dist-packages (from google-auth<2,>=1.6.3->tensorboard<3,>=2.3.0->tensorflow==2.3.1) (4.6)\n",
            "Requirement already satisfied: certifi>=2017.4.17 in /usr/local/lib/python3.6/dist-packages (from requests<3,>=2.21.0->tensorboard<3,>=2.3.0->tensorflow==2.3.1) (2020.6.20)\n",
            "Requirement already satisfied: idna<3,>=2.5 in /usr/local/lib/python3.6/dist-packages (from requests<3,>=2.21.0->tensorboard<3,>=2.3.0->tensorflow==2.3.1) (2.10)\n",
            "Requirement already satisfied: urllib3!=1.25.0,!=1.25.1,<1.26,>=1.21.1 in /usr/local/lib/python3.6/dist-packages (from requests<3,>=2.21.0->tensorboard<3,>=2.3.0->tensorflow==2.3.1) (1.24.3)\n",
            "Requirement already satisfied: chardet<4,>=3.0.2 in /usr/local/lib/python3.6/dist-packages (from requests<3,>=2.21.0->tensorboard<3,>=2.3.0->tensorflow==2.3.1) (3.0.4)\n",
            "Requirement already satisfied: requests-oauthlib>=0.7.0 in /usr/local/lib/python3.6/dist-packages (from google-auth-oauthlib<0.5,>=0.4.1->tensorboard<3,>=2.3.0->tensorflow==2.3.1) (1.3.0)\n",
            "Requirement already satisfied: importlib-metadata; python_version < \"3.8\" in /usr/local/lib/python3.6/dist-packages (from markdown>=2.6.8->tensorboard<3,>=2.3.0->tensorflow==2.3.1) (1.7.0)\n",
            "Requirement already satisfied: pyasn1<0.5.0,>=0.4.6 in /usr/local/lib/python3.6/dist-packages (from pyasn1-modules>=0.2.1->google-auth<2,>=1.6.3->tensorboard<3,>=2.3.0->tensorflow==2.3.1) (0.4.8)\n",
            "Requirement already satisfied: oauthlib>=3.0.0 in /usr/local/lib/python3.6/dist-packages (from requests-oauthlib>=0.7.0->google-auth-oauthlib<0.5,>=0.4.1->tensorboard<3,>=2.3.0->tensorflow==2.3.1) (3.1.0)\n",
            "Requirement already satisfied: zipp>=0.5 in /usr/local/lib/python3.6/dist-packages (from importlib-metadata; python_version < \"3.8\"->markdown>=2.6.8->tensorboard<3,>=2.3.0->tensorflow==2.3.1) (3.1.0)\n",
            "Installing collected packages: tensorflow\n",
            "  Found existing installation: tensorflow 2.3.0\n",
            "    Uninstalling tensorflow-2.3.0:\n",
            "      Successfully uninstalled tensorflow-2.3.0\n",
            "Successfully installed tensorflow-2.3.1\n"
          ],
          "name": "stdout"
        }
      ]
    },
    {
      "cell_type": "code",
      "metadata": {
        "id": "p-00cdIMMsY3",
        "outputId": "303887d5-b2a1-4299-e499-c1f049525e49",
        "colab": {
          "base_uri": "https://localhost:8080/",
          "height": 35
        }
      },
      "source": [
        "import tensorflow as tf\n",
        "tf.version.VERSION"
      ],
      "execution_count": 4,
      "outputs": [
        {
          "output_type": "execute_result",
          "data": {
            "application/vnd.google.colaboratory.intrinsic+json": {
              "type": "string"
            },
            "text/plain": [
              "'2.3.1'"
            ]
          },
          "metadata": {
            "tags": []
          },
          "execution_count": 4
        }
      ]
    },
    {
      "cell_type": "code",
      "metadata": {
        "id": "vxW1hFtAirVF",
        "outputId": "54433efc-fe13-413d-ea56-d6adeb74b57b",
        "colab": {
          "base_uri": "https://localhost:8080/",
          "height": 70
        }
      },
      "source": [
        "import cv2\n",
        "import pandas as pd\n",
        "import seaborn as sns\n",
        "import matplotlib.pyplot as plt\n",
        "import numpy as np\n",
        "import os\n",
        "import PIL\n",
        "from tensorflow.keras import layers\n",
        "import tensorflow as tf\n",
        "import pickle\n",
        "from tensorflow.python.keras import *\n",
        "from tensorflow.keras.preprocessing.image import ImageDataGenerator\n",
        "from tensorflow.keras import layers, optimizers\n",
        "from tensorflow.keras.applications import DenseNet121\n",
        "from tensorflow.keras.applications.resnet50 import ResNet50\n",
        "from tensorflow.keras.layers import *\n",
        "from tensorflow.keras.models import Model, load_model\n",
        "from tensorflow.keras.initializers import glorot_uniform\n",
        "from tensorflow.keras.utils import plot_model\n",
        "from tensorflow.keras.callbacks import ReduceLROnPlateau, EarlyStopping, ModelCheckpoint, LearningRateScheduler\n",
        "from IPython.display import display\n",
        "from tensorflow.keras import backend as K"
      ],
      "execution_count": 5,
      "outputs": [
        {
          "output_type": "stream",
          "text": [
            "/usr/local/lib/python3.6/dist-packages/statsmodels/tools/_testing.py:19: FutureWarning: pandas.util.testing is deprecated. Use the functions in the public API at pandas.testing instead.\n",
            "  import pandas.util.testing as tm\n"
          ],
          "name": "stderr"
        }
      ]
    },
    {
      "cell_type": "code",
      "metadata": {
        "id": "NTQzuRixMsY9"
      },
      "source": [
        "# Reading The CSV Files\n",
        "emotion_df = pd.read_csv('emotion.csv')"
      ],
      "execution_count": 8,
      "outputs": []
    },
    {
      "cell_type": "code",
      "metadata": {
        "id": "3eLZ7CgMMsZA",
        "outputId": "0a06aa41-9ed7-440b-f01a-85c6b7a5ab8d",
        "colab": {
          "base_uri": "https://localhost:8080/",
          "height": 402
        }
      },
      "source": [
        "emotion_df"
      ],
      "execution_count": null,
      "outputs": [
        {
          "output_type": "execute_result",
          "data": {
            "text/html": [
              "<div>\n",
              "<style scoped>\n",
              "    .dataframe tbody tr th:only-of-type {\n",
              "        vertical-align: middle;\n",
              "    }\n",
              "\n",
              "    .dataframe tbody tr th {\n",
              "        vertical-align: top;\n",
              "    }\n",
              "\n",
              "    .dataframe thead th {\n",
              "        text-align: right;\n",
              "    }\n",
              "</style>\n",
              "<table border=\"1\" class=\"dataframe\">\n",
              "  <thead>\n",
              "    <tr style=\"text-align: right;\">\n",
              "      <th></th>\n",
              "      <th>emotion</th>\n",
              "      <th>pixels</th>\n",
              "    </tr>\n",
              "  </thead>\n",
              "  <tbody>\n",
              "    <tr>\n",
              "      <th>0</th>\n",
              "      <td>0</td>\n",
              "      <td>70 80 82 72 58 58 60 63 54 58 60 48 89 115 121...</td>\n",
              "    </tr>\n",
              "    <tr>\n",
              "      <th>1</th>\n",
              "      <td>0</td>\n",
              "      <td>151 150 147 155 148 133 111 140 170 174 182 15...</td>\n",
              "    </tr>\n",
              "    <tr>\n",
              "      <th>2</th>\n",
              "      <td>2</td>\n",
              "      <td>24 32 36 30 32 23 19 20 30 41 21 22 32 34 21 1...</td>\n",
              "    </tr>\n",
              "    <tr>\n",
              "      <th>3</th>\n",
              "      <td>2</td>\n",
              "      <td>20 17 19 21 25 38 42 42 46 54 56 62 63 66 82 1...</td>\n",
              "    </tr>\n",
              "    <tr>\n",
              "      <th>4</th>\n",
              "      <td>3</td>\n",
              "      <td>77 78 79 79 78 75 60 55 47 48 58 73 77 79 57 5...</td>\n",
              "    </tr>\n",
              "    <tr>\n",
              "      <th>...</th>\n",
              "      <td>...</td>\n",
              "      <td>...</td>\n",
              "    </tr>\n",
              "    <tr>\n",
              "      <th>24563</th>\n",
              "      <td>3</td>\n",
              "      <td>0 39 81 80 104 97 51 64 68 46 41 67 53 68 70 5...</td>\n",
              "    </tr>\n",
              "    <tr>\n",
              "      <th>24564</th>\n",
              "      <td>0</td>\n",
              "      <td>181 177 176 156 178 144 136 132 122 107 131 16...</td>\n",
              "    </tr>\n",
              "    <tr>\n",
              "      <th>24565</th>\n",
              "      <td>3</td>\n",
              "      <td>178 174 172 173 181 188 191 194 196 199 200 20...</td>\n",
              "    </tr>\n",
              "    <tr>\n",
              "      <th>24566</th>\n",
              "      <td>0</td>\n",
              "      <td>17 17 16 23 28 22 19 17 25 26 20 24 31 19 27 9...</td>\n",
              "    </tr>\n",
              "    <tr>\n",
              "      <th>24567</th>\n",
              "      <td>3</td>\n",
              "      <td>30 28 28 29 31 30 42 68 79 81 77 67 67 71 63 6...</td>\n",
              "    </tr>\n",
              "  </tbody>\n",
              "</table>\n",
              "<p>24568 rows × 2 columns</p>\n",
              "</div>"
            ],
            "text/plain": [
              "       emotion                                             pixels\n",
              "0            0  70 80 82 72 58 58 60 63 54 58 60 48 89 115 121...\n",
              "1            0  151 150 147 155 148 133 111 140 170 174 182 15...\n",
              "2            2  24 32 36 30 32 23 19 20 30 41 21 22 32 34 21 1...\n",
              "3            2  20 17 19 21 25 38 42 42 46 54 56 62 63 66 82 1...\n",
              "4            3  77 78 79 79 78 75 60 55 47 48 58 73 77 79 57 5...\n",
              "...        ...                                                ...\n",
              "24563        3  0 39 81 80 104 97 51 64 68 46 41 67 53 68 70 5...\n",
              "24564        0  181 177 176 156 178 144 136 132 122 107 131 16...\n",
              "24565        3  178 174 172 173 181 188 191 194 196 199 200 20...\n",
              "24566        0  17 17 16 23 28 22 19 17 25 26 20 24 31 19 27 9...\n",
              "24567        3  30 28 28 29 31 30 42 68 79 81 77 67 67 71 63 6...\n",
              "\n",
              "[24568 rows x 2 columns]"
            ]
          },
          "metadata": {
            "tags": []
          },
          "execution_count": 7
        }
      ]
    },
    {
      "cell_type": "code",
      "metadata": {
        "id": "FrhqyzPbMsZD",
        "outputId": "ddd15acb-f439-411e-a1d9-2c9f0e12d3f9",
        "colab": {
          "base_uri": "https://localhost:8080/",
          "height": 34
        }
      },
      "source": [
        "emotion_df['emotion'][2]"
      ],
      "execution_count": 9,
      "outputs": [
        {
          "output_type": "execute_result",
          "data": {
            "text/plain": [
              "2"
            ]
          },
          "metadata": {
            "tags": []
          },
          "execution_count": 9
        }
      ]
    },
    {
      "cell_type": "code",
      "metadata": {
        "id": "MLjy5-vFMsZH"
      },
      "source": [
        "emotion_df['pixels'] = emotion_df[' pixels'] # String Formatting"
      ],
      "execution_count": 10,
      "outputs": []
    },
    {
      "cell_type": "code",
      "metadata": {
        "scrolled": true,
        "id": "r_e3W7AmMsZL",
        "outputId": "d1f83652-8b8f-427a-f96e-f3815d59a2ab",
        "colab": {
          "base_uri": "https://localhost:8080/",
          "height": 137
        }
      },
      "source": [
        "emotion_df['pixels'][2] "
      ],
      "execution_count": 11,
      "outputs": [
        {
          "output_type": "execute_result",
          "data": {
            "application/vnd.google.colaboratory.intrinsic+json": {
              "type": "string"
            },
            "text/plain": [
              "'24 32 36 30 32 23 19 20 30 41 21 22 32 34 21 19 43 52 13 26 40 59 65 12 20 63 99 98 98 111 75 62 41 73 118 140 192 186 187 188 190 190 187 182 176 173 172 173 25 34 29 35 29 26 20 23 19 31 22 21 20 31 26 17 34 75 37 18 38 80 85 25 38 26 34 97 94 76 86 95 70 39 98 129 185 188 188 189 190 190 188 182 176 173 172 173 26 29 25 35 25 30 20 21 16 28 34 26 15 17 19 22 29 62 64 47 45 76 76 78 65 82 12 14 56 56 72 74 66 65 86 129 172 190 187 189 190 190 187 182 177 172 172 174 26 33 32 31 25 33 26 21 16 16 37 27 14 15 12 17 31 38 40 58 73 59 35 82 68 72 43 22 33 52 51 66 71 57 71 121 160 191 188 189 190 190 187 184 178 173 173 174 29 40 29 29 32 32 28 26 19 13 23 34 17 18 14 15 26 25 21 40 82 44 29 34 36 32 36 59 55 38 46 64 71 62 60 107 137 191 189 190 190 190 188 184 178 175 173 175 33 39 25 33 37 33 25 30 20 18 18 23 20 22 20 17 33 20 18 25 37 31 22 29 28 24 29 38 67 38 35 75 68 66 58 89 110 179 191 189 189 190 187 184 179 175 173 174 32 41 32 31 39 33 26 34 27 23 28 30 21 24 29 22 26 23 21 22 33 28 28 26 28 23 27 21 61 53 24 72 78 64 54 84 94 155 195 189 191 190 188 184 179 174 172 173 28 46 40 29 42 34 31 39 37 30 33 33 28 23 30 31 24 19 17 18 27 25 27 23 25 24 23 13 40 69 29 45 74 74 59 88 88 145 196 188 191 191 188 183 178 174 172 174 27 44 42 35 42 34 39 40 41 37 33 33 34 31 32 35 32 19 19 18 16 17 22 21 23 25 22 14 30 74 36 32 62 75 59 89 94 139 194 188 191 191 187 184 179 174 173 174 28 38 38 42 41 36 51 44 37 40 35 33 29 38 38 43 39 28 23 19 22 24 26 27 26 29 21 17 37 75 31 32 49 55 57 102 108 138 193 189 191 192 189 184 180 176 174 174 29 33 30 34 41 39 46 45 37 38 38 34 28 39 41 44 36 37 28 29 32 34 35 34 33 33 27 23 39 72 28 22 44 70 82 127 100 137 194 189 190 189 188 185 181 176 174 176 29 32 28 24 40 35 35 30 30 31 38 29 31 37 30 34 30 41 52 57 58 56 53 45 50 40 46 24 30 60 27 64 120 130 141 139 85 149 194 187 189 188 187 185 181 177 175 176 34 24 33 27 26 27 27 21 24 28 34 27 33 30 23 26 27 52 91 125 125 119 100 89 88 84 66 24 48 57 89 137 155 159 175 155 105 173 193 189 189 189 187 185 181 177 175 176 33 74 146 130 75 24 23 20 20 23 26 24 27 24 24 31 60 118 156 158 156 155 141 135 131 108 42 68 73 97 140 146 164 178 186 191 156 185 189 189 188 188 186 184 180 177 175 176 45 121 121 162 155 61 17 22 21 23 22 21 21 24 29 62 127 165 170 163 166 159 144 128 103 53 67 99 90 129 148 153 175 195 201 180 174 188 187 188 188 187 186 184 180 177 176 176 64 105 116 165 150 143 45 17 19 23 23 22 23 25 52 122 166 171 172 174 169 160 152 128 91 97 124 119 123 144 151 157 179 177 143 154 184 187 188 189 189 187 186 183 180 177 176 176 125 93 150 159 133 143 106 33 49 27 24 25 23 44 120 166 170 165 159 142 132 120 117 119 129 131 128 132 135 142 146 158 144 94 131 185 185 186 187 188 189 187 185 183 179 176 175 176 201 82 161 117 85 143 158 109 119 67 21 39 86 132 168 173 171 167 161 148 134 123 102 89 100 102 97 108 124 131 152 118 75 138 131 170 185 186 187 188 189 187 185 183 178 175 175 175 225 80 130 122 84 146 145 162 159 129 31 94 168 172 170 170 167 162 143 117 112 77 50 47 65 100 127 135 129 137 157 56 73 168 181 180 185 187 188 189 189 187 184 181 178 174 173 175 217 80 78 165 127 109 119 169 173 163 108 138 172 168 172 171 165 158 140 101 65 43 44 56 38 95 141 160 146 166 142 62 116 171 198 180 185 186 188 188 187 186 183 181 177 174 173 175 194 64 36 127 178 168 113 132 172 166 153 158 170 170 171 173 171 168 165 161 139 96 72 69 53 111 163 170 155 163 187 143 162 205 204 180 186 187 188 188 187 185 184 181 177 174 173 175 144 55 54 51 146 177 158 154 173 169 160 165 168 161 145 136 164 172 167 153 137 132 117 90 85 134 168 176 162 160 212 197 188 208 203 182 188 187 189 189 187 186 184 181 177 174 173 175 127 79 91 61 47 157 160 166 161 164 160 154 148 153 146 105 131 154 146 145 128 108 118 104 114 127 156 166 156 163 207 190 185 207 194 181 183 185 180 180 184 181 183 180 176 174 172 174 136 102 122 138 60 73 130 139 138 153 137 142 122 135 140 114 89 144 117 108 116 110 110 103 97 107 142 145 139 151 202 157 159 189 167 175 162 172 158 161 159 171 186 181 177 173 173 174 153 136 152 203 144 60 110 128 142 143 137 141 130 125 138 122 73 141 138 121 82 131 108 94 95 113 137 150 150 151 201 147 145 185 172 163 160 161 158 169 164 179 184 180 176 172 172 173 163 167 189 211 200 74 106 158 143 153 158 145 140 145 158 133 70 135 142 145 80 114 128 104 97 125 154 155 169 165 193 196 154 204 194 172 186 179 180 181 180 183 182 180 175 172 171 174 182 200 209 210 215 126 96 166 162 163 165 166 150 146 182 165 78 134 170 168 75 88 125 109 95 138 161 168 177 165 172 200 182 209 195 187 188 190 189 188 187 185 182 179 175 171 171 172 204 206 211 213 215 177 80 152 158 159 160 170 162 141 178 169 92 130 182 174 84 65 109 109 89 137 149 151 153 137 143 178 190 209 185 182 187 186 185 185 185 183 181 177 173 170 170 171 206 209 211 213 213 202 117 123 161 153 154 172 170 143 173 169 111 131 182 177 106 51 91 109 112 109 111 132 140 150 198 209 203 215 207 190 182 184 185 185 184 183 182 178 174 170 169 170 206 209 211 214 213 208 169 100 150 147 145 166 172 143 171 171 124 135 178 174 128 45 76 109 127 136 144 164 182 190 202 215 218 178 200 226 211 192 181 184 184 183 182 179 174 169 167 168 210 209 210 214 214 210 196 112 118 149 138 159 171 138 159 164 123 139 176 169 149 45 64 117 144 155 172 199 200 201 199 226 193 157 165 189 217 231 208 181 179 180 180 177 172 169 166 167 211 210 210 213 214 212 205 156 81 137 136 144 157 136 136 149 135 142 176 161 181 80 35 84 118 147 178 186 188 146 129 194 141 149 124 105 145 192 232 211 178 180 181 178 172 169 165 166 209 212 210 211 214 213 207 191 98 87 135 128 143 151 135 151 150 137 158 142 159 146 50 38 76 160 166 160 156 78 135 129 116 124 60 70 97 146 206 225 180 177 178 177 172 168 164 165 197 211 211 210 211 213 209 200 155 60 95 117 126 155 147 136 150 141 143 147 132 130 103 110 166 180 161 159 123 83 136 82 122 50 33 80 131 170 198 213 179 177 178 177 172 168 164 165 181 191 217 209 209 211 208 202 184 104 51 92 100 126 151 144 157 155 152 157 133 107 111 154 176 171 154 160 106 55 50 78 104 25 41 94 145 186 208 201 178 179 179 178 173 167 163 163 180 159 205 211 208 209 207 201 187 151 64 55 85 94 139 156 164 157 160 167 151 129 138 170 172 159 153 164 74 35 52 90 57 22 82 154 172 181 209 192 176 178 177 177 173 167 162 162 153 160 171 209 207 207 206 200 190 167 109 47 65 78 115 158 166 162 159 168 159 146 162 172 167 141 165 149 19 30 41 54 35 62 146 170 178 191 209 184 176 178 177 178 174 167 161 161 160 163 141 183 208 204 204 199 188 173 140 74 54 73 94 156 170 167 162 166 158 155 169 169 151 138 176 161 20 28 48 52 46 124 167 179 184 201 205 179 178 177 177 176 173 165 160 158 157 169 141 140 198 202 201 200 187 173 151 111 68 79 92 148 170 167 166 168 163 162 170 161 151 157 179 187 36 34 42 46 98 141 163 179 182 201 196 175 177 176 175 175 172 165 159 156 118 164 162 115 164 202 198 201 191 177 158 133 99 101 126 154 163 168 167 169 163 164 166 162 165 162 171 202 67 43 51 99 139 149 161 166 174 195 187 176 177 176 176 175 171 165 158 153 101 133 171 130 118 183 196 199 195 184 166 150 127 131 162 168 162 166 166 167 163 165 164 164 165 159 167 204 96 54 94 128 138 156 166 165 172 191 179 176 176 176 174 173 170 164 157 151 118 103 147 156 105 145 192 196 195 188 178 171 145 151 181 171 164 167 170 168 164 168 167 164 162 156 163 202 122 76 99 103 129 151 156 166 183 194 173 174 173 173 173 173 170 164 156 152 135 106 109 151 129 112 174 189 192 190 188 181 166 145 175 171 148 166 169 169 167 166 167 164 162 158 162 198 142 89 95 95 119 141 148 163 197 194 170 172 172 172 172 171 169 165 158 152 157 131 95 119 143 109 140 181 184 188 187 184 176 155 144 158 128 158 170 169 169 167 167 165 165 161 160 193 173 98 101 103 116 132 138 164 206 190 164 168 167 168 169 168 166 163 157 152 184 160 119 94 125 127 111 163 174 182 184 183 180 168 147 149 119 146 171 168 169 168 169 169 168 161 155 183 216 120 102 101 110 128 130 150 203 183 156 163 163 163 164 165 163 161 157 151 159 185 157 107 99 128 114 132 167 173 179 179 178 171 159 158 156 146 169 169 169 170 169 167 169 167 164 183 235 162 105 105 105 126 137 149 198 199 150 156 157 157 159 160 160 157 156 153 136 157 187 152 104 109 124 115 147 163 170 172 173 170 163 160 172 177 168 170 168 170 168 170 173 177 188 198 232 202 116 108 108 124 138 147 185 219 157 140 144 144 146 147 151 152 152 150 145 130 161 184 141 105 118 119 124 150 161 167 169 167 162 164 169 181 172 168 169 170 174 179 180 182 196 208 226 230 140 113 114 125 135 141 172 214 174 126 132 132 133 136 139 142 143 142'"
            ]
          },
          "metadata": {
            "tags": []
          },
          "execution_count": 11
        }
      ]
    },
    {
      "cell_type": "code",
      "metadata": {
        "id": "BzZawyvkMsZO"
      },
      "source": [
        "# Function To Convert Pixel Values In String Format To Array Format\n",
        "def string2array(x):\n",
        "  return np.array(x.split(' ')).reshape(48, 48, 1).astype('float32')"
      ],
      "execution_count": 12,
      "outputs": []
    },
    {
      "cell_type": "code",
      "metadata": {
        "id": "5O93wp4NMsZR"
      },
      "source": [
        "emotion_df['pixels'] = emotion_df['pixels'].apply(lambda x: string2array(x))"
      ],
      "execution_count": 13,
      "outputs": []
    },
    {
      "cell_type": "code",
      "metadata": {
        "id": "Pu0Xg5KAMsZT",
        "outputId": "1d763204-0de5-4912-e858-cf46ce043d57",
        "colab": {
          "base_uri": "https://localhost:8080/",
          "height": 34
        }
      },
      "source": [
        "emotion_df['pixels'][2].shape"
      ],
      "execution_count": 14,
      "outputs": [
        {
          "output_type": "execute_result",
          "data": {
            "text/plain": [
              "(48, 48, 1)"
            ]
          },
          "metadata": {
            "tags": []
          },
          "execution_count": 14
        }
      ]
    },
    {
      "cell_type": "code",
      "metadata": {
        "id": "_ueSRWFcMsZW",
        "outputId": "19792743-f8cc-4aad-bb44-0dce3e16bd3f",
        "colab": {
          "base_uri": "https://localhost:8080/",
          "height": 840
        }
      },
      "source": [
        "emotion_df['pixels'][2]"
      ],
      "execution_count": 15,
      "outputs": [
        {
          "output_type": "execute_result",
          "data": {
            "text/plain": [
              "array([[[ 24.],\n",
              "        [ 32.],\n",
              "        [ 36.],\n",
              "        ...,\n",
              "        [173.],\n",
              "        [172.],\n",
              "        [173.]],\n",
              "\n",
              "       [[ 25.],\n",
              "        [ 34.],\n",
              "        [ 29.],\n",
              "        ...,\n",
              "        [173.],\n",
              "        [172.],\n",
              "        [173.]],\n",
              "\n",
              "       [[ 26.],\n",
              "        [ 29.],\n",
              "        [ 25.],\n",
              "        ...,\n",
              "        [172.],\n",
              "        [172.],\n",
              "        [174.]],\n",
              "\n",
              "       ...,\n",
              "\n",
              "       [[159.],\n",
              "        [185.],\n",
              "        [157.],\n",
              "        ...,\n",
              "        [157.],\n",
              "        [156.],\n",
              "        [153.]],\n",
              "\n",
              "       [[136.],\n",
              "        [157.],\n",
              "        [187.],\n",
              "        ...,\n",
              "        [152.],\n",
              "        [152.],\n",
              "        [150.]],\n",
              "\n",
              "       [[145.],\n",
              "        [130.],\n",
              "        [161.],\n",
              "        ...,\n",
              "        [142.],\n",
              "        [143.],\n",
              "        [142.]]], dtype=float32)"
            ]
          },
          "metadata": {
            "tags": []
          },
          "execution_count": 15
        }
      ]
    },
    {
      "cell_type": "code",
      "metadata": {
        "id": "6igtUh91MsZa",
        "outputId": "4cbe15a9-c72d-49c6-e3ab-ec90fc2ab8ba",
        "colab": {
          "base_uri": "https://localhost:8080/",
          "height": 84
        }
      },
      "source": [
        "# Checking For The Presence Of Null Values In The Data Frame\n",
        "emotion_df.isnull().sum()"
      ],
      "execution_count": 16,
      "outputs": [
        {
          "output_type": "execute_result",
          "data": {
            "text/plain": [
              "emotion    0\n",
              " pixels    0\n",
              "pixels     0\n",
              "dtype: int64"
            ]
          },
          "metadata": {
            "tags": []
          },
          "execution_count": 16
        }
      ]
    },
    {
      "cell_type": "code",
      "metadata": {
        "id": "briGRGaSMsZd"
      },
      "source": [
        "label_to_text = {0:'anger', 1:'disgust', 2:'sad', 3:'happiness', 4: 'surprise'}"
      ],
      "execution_count": 17,
      "outputs": []
    },
    {
      "cell_type": "code",
      "metadata": {
        "id": "7YSjXTPFMsZh",
        "outputId": "053146a0-2354-452e-a2fc-1a5040daa3fe",
        "colab": {
          "base_uri": "https://localhost:8080/",
          "height": 284
        }
      },
      "source": [
        "plt.imshow(emotion_df['pixels'][0].squeeze(),cmap='gray')"
      ],
      "execution_count": 18,
      "outputs": [
        {
          "output_type": "execute_result",
          "data": {
            "text/plain": [
              "<matplotlib.image.AxesImage at 0x7fa4accf9cf8>"
            ]
          },
          "metadata": {
            "tags": []
          },
          "execution_count": 18
        },
        {
          "output_type": "display_data",
          "data": {
            "image/png": "[encoded data removed]",
            "text/plain": [
              "<Figure size 432x288 with 1 Axes>"
            ]
          },
          "metadata": {
            "tags": [],
            "needs_background": "light"
          }
        }
      ]
    },
    {
      "cell_type": "markdown",
      "metadata": {
        "id": "JV0SBDZVMsZk"
      },
      "source": [
        "<h2>Performing Data Visualization</h2>"
      ]
    },
    {
      "cell_type": "code",
      "metadata": {
        "id": "Jt21ZU9zMsZl",
        "outputId": "c75f5313-2c58-49b2-ff8a-b4aea34aff20",
        "colab": {
          "base_uri": "https://localhost:8080/",
          "height": 1000
        }
      },
      "source": [
        "emotions = [0,1,2,3,4]\n",
        "\n",
        "for i in emotions:\n",
        "  data = emotion_df[emotion_df['emotion'] == i][:1]\n",
        "  img = data['pixels'].item()\n",
        "  img = img.reshape(48,48)\n",
        "  plt.figure()\n",
        "  plt.title(label_to_text[i])\n",
        "  plt.imshow(img, cmap= 'gray')"
      ],
      "execution_count": 19,
      "outputs": [
        {
          "output_type": "display_data",
          "data": {
            "image/png": "[encoded data removed]",
            "text/plain": [
              "<Figure size 432x288 with 1 Axes>"
            ]
          },
          "metadata": {
            "tags": [],
            "needs_background": "light"
          }
        },
        {
          "output_type": "display_data",
          "data": {
            "image/png": "[encoded data removed]",
            "text/plain": [
              "<Figure size 432x288 with 1 Axes>"
            ]
          },
          "metadata": {
            "tags": [],
            "needs_background": "light"
          }
        },
        {
          "output_type": "display_data",
          "data": {
            "image/png": "[encoded data removed]",
            "text/plain": [
              "<Figure size 432x288 with 1 Axes>"
            ]
          },
          "metadata": {
            "tags": [],
            "needs_background": "light"
          }
        },
        {
          "output_type": "display_data",
          "data": {
            "image/png": "[encoded data removed]",
            "text/plain": [
              "<Figure size 432x288 with 1 Axes>"
            ]
          },
          "metadata": {
            "tags": [],
            "needs_background": "light"
          }
        },
        {
          "output_type": "display_data",
          "data": {
            "image/png": "[encoded data removed]",
            "text/plain": [
              "<Figure size 432x288 with 1 Axes>"
            ]
          },
          "metadata": {
            "tags": [],
            "needs_background": "light"
          }
        }
      ]
    },
    {
      "cell_type": "code",
      "metadata": {
        "id": "bR01oqdDMsZp",
        "outputId": "172ef165-dcb7-4ef6-8da1-53cd4c310e1e",
        "colab": {
          "base_uri": "https://localhost:8080/",
          "height": 624
        }
      },
      "source": [
        "plt.figure(figsize=(10,10))\n",
        "sns.barplot(x=emotion_df.emotion.value_counts().index,y=emotion_df.emotion.value_counts())\n",
        "plt.title('Number of images per emotion')"
      ],
      "execution_count": 20,
      "outputs": [
        {
          "output_type": "execute_result",
          "data": {
            "text/plain": [
              "Text(0.5, 1.0, 'Number of images per emotion')"
            ]
          },
          "metadata": {
            "tags": []
          },
          "execution_count": 20
        },
        {
          "output_type": "display_data",
          "data": {
            "image/png": "[encoded data removed]",
            "text/plain": [
              "<Figure size 720x720 with 1 Axes>"
            ]
          },
          "metadata": {
            "tags": [],
            "needs_background": "light"
          }
        }
      ]
    },
    {
      "cell_type": "markdown",
      "metadata": {
        "id": "DOcw9nVuMsZs"
      },
      "source": [
        "<h2>Performing Data Augmentation</h2>"
      ]
    },
    {
      "cell_type": "code",
      "metadata": {
        "id": "7BH_G-vHMsZt",
        "outputId": "54605f72-3d1b-45e4-9723-fe0b891ad5ee",
        "colab": {
          "base_uri": "https://localhost:8080/",
          "height": 840
        }
      },
      "source": [
        "emotion_df['pixels'][0]"
      ],
      "execution_count": 21,
      "outputs": [
        {
          "output_type": "execute_result",
          "data": {
            "text/plain": [
              "array([[[ 70.],\n",
              "        [ 80.],\n",
              "        [ 82.],\n",
              "        ...,\n",
              "        [ 52.],\n",
              "        [ 43.],\n",
              "        [ 41.]],\n",
              "\n",
              "       [[ 65.],\n",
              "        [ 61.],\n",
              "        [ 58.],\n",
              "        ...,\n",
              "        [ 56.],\n",
              "        [ 52.],\n",
              "        [ 44.]],\n",
              "\n",
              "       [[ 50.],\n",
              "        [ 43.],\n",
              "        [ 54.],\n",
              "        ...,\n",
              "        [ 49.],\n",
              "        [ 56.],\n",
              "        [ 47.]],\n",
              "\n",
              "       ...,\n",
              "\n",
              "       [[ 91.],\n",
              "        [ 65.],\n",
              "        [ 42.],\n",
              "        ...,\n",
              "        [ 72.],\n",
              "        [ 56.],\n",
              "        [ 43.]],\n",
              "\n",
              "       [[ 77.],\n",
              "        [ 82.],\n",
              "        [ 79.],\n",
              "        ...,\n",
              "        [105.],\n",
              "        [ 70.],\n",
              "        [ 46.]],\n",
              "\n",
              "       [[ 77.],\n",
              "        [ 72.],\n",
              "        [ 84.],\n",
              "        ...,\n",
              "        [106.],\n",
              "        [109.],\n",
              "        [ 82.]]], dtype=float32)"
            ]
          },
          "metadata": {
            "tags": []
          },
          "execution_count": 21
        }
      ]
    },
    {
      "cell_type": "code",
      "metadata": {
        "id": "e6i3eU_QMsZx",
        "outputId": "626dc75b-3d2a-423e-f77c-c54094cdac42",
        "colab": {
          "base_uri": "https://localhost:8080/",
          "height": 34
        }
      },
      "source": [
        "emotion_df['emotion'][10]"
      ],
      "execution_count": 22,
      "outputs": [
        {
          "output_type": "execute_result",
          "data": {
            "text/plain": [
              "2"
            ]
          },
          "metadata": {
            "tags": []
          },
          "execution_count": 22
        }
      ]
    },
    {
      "cell_type": "code",
      "metadata": {
        "id": "sVFus6V0MsZ0",
        "outputId": "7ad0c131-2add-45d9-c622-afce344d90c4",
        "colab": {
          "base_uri": "https://localhost:8080/",
          "height": 34
        }
      },
      "source": [
        "X = emotion_df['pixels']\n",
        "X.shape"
      ],
      "execution_count": 23,
      "outputs": [
        {
          "output_type": "execute_result",
          "data": {
            "text/plain": [
              "(24568,)"
            ]
          },
          "metadata": {
            "tags": []
          },
          "execution_count": 23
        }
      ]
    },
    {
      "cell_type": "code",
      "metadata": {
        "id": "ycPk0d2GMsZ3",
        "outputId": "f3dac07a-fcf6-4420-d9bf-cef14bb4bc3d",
        "colab": {
          "base_uri": "https://localhost:8080/",
          "height": 34
        }
      },
      "source": [
        "# Splitting The Dataframe To Features And Labels\n",
        "X = emotion_df['pixels']\n",
        "y = pd.get_dummies(emotion_df['emotion'])\n",
        "\n",
        "X = np.stack(X, axis = 0)\n",
        "X = X.reshape(24568, 48, 48, 1)\n",
        "\n",
        "print(X.shape, y.shape)"
      ],
      "execution_count": 24,
      "outputs": [
        {
          "output_type": "stream",
          "text": [
            "(24568, 48, 48, 1) (24568, 5)\n"
          ],
          "name": "stdout"
        }
      ]
    },
    {
      "cell_type": "code",
      "metadata": {
        "id": "yIjYVFEVMsZ5",
        "outputId": "c872db87-8902-4bf8-8917-c36939f520dc",
        "colab": {
          "base_uri": "https://localhost:8080/",
          "height": 34
        }
      },
      "source": [
        "X.shape"
      ],
      "execution_count": 25,
      "outputs": [
        {
          "output_type": "execute_result",
          "data": {
            "text/plain": [
              "(24568, 48, 48, 1)"
            ]
          },
          "metadata": {
            "tags": []
          },
          "execution_count": 25
        }
      ]
    },
    {
      "cell_type": "code",
      "metadata": {
        "id": "pJq6e0_XMsZ7",
        "outputId": "75dadc4e-aa31-45af-8a59-306b64f4817c",
        "colab": {
          "base_uri": "https://localhost:8080/",
          "height": 34
        }
      },
      "source": [
        "y.shape"
      ],
      "execution_count": 26,
      "outputs": [
        {
          "output_type": "execute_result",
          "data": {
            "text/plain": [
              "(24568, 5)"
            ]
          },
          "metadata": {
            "tags": []
          },
          "execution_count": 26
        }
      ]
    },
    {
      "cell_type": "code",
      "metadata": {
        "id": "yWzgEFrTMsZ9",
        "outputId": "6cc9ebf0-cf01-4a03-d6a0-58f44afa30d7",
        "colab": {
          "base_uri": "https://localhost:8080/",
          "height": 1000
        }
      },
      "source": [
        "X"
      ],
      "execution_count": 27,
      "outputs": [
        {
          "output_type": "execute_result",
          "data": {
            "text/plain": [
              "array([[[[ 70.],\n",
              "         [ 80.],\n",
              "         [ 82.],\n",
              "         ...,\n",
              "         [ 52.],\n",
              "         [ 43.],\n",
              "         [ 41.]],\n",
              "\n",
              "        [[ 65.],\n",
              "         [ 61.],\n",
              "         [ 58.],\n",
              "         ...,\n",
              "         [ 56.],\n",
              "         [ 52.],\n",
              "         [ 44.]],\n",
              "\n",
              "        [[ 50.],\n",
              "         [ 43.],\n",
              "         [ 54.],\n",
              "         ...,\n",
              "         [ 49.],\n",
              "         [ 56.],\n",
              "         [ 47.]],\n",
              "\n",
              "        ...,\n",
              "\n",
              "        [[ 91.],\n",
              "         [ 65.],\n",
              "         [ 42.],\n",
              "         ...,\n",
              "         [ 72.],\n",
              "         [ 56.],\n",
              "         [ 43.]],\n",
              "\n",
              "        [[ 77.],\n",
              "         [ 82.],\n",
              "         [ 79.],\n",
              "         ...,\n",
              "         [105.],\n",
              "         [ 70.],\n",
              "         [ 46.]],\n",
              "\n",
              "        [[ 77.],\n",
              "         [ 72.],\n",
              "         [ 84.],\n",
              "         ...,\n",
              "         [106.],\n",
              "         [109.],\n",
              "         [ 82.]]],\n",
              "\n",
              "\n",
              "       [[[151.],\n",
              "         [150.],\n",
              "         [147.],\n",
              "         ...,\n",
              "         [129.],\n",
              "         [140.],\n",
              "         [120.]],\n",
              "\n",
              "        [[151.],\n",
              "         [149.],\n",
              "         [149.],\n",
              "         ...,\n",
              "         [122.],\n",
              "         [141.],\n",
              "         [137.]],\n",
              "\n",
              "        [[151.],\n",
              "         [151.],\n",
              "         [156.],\n",
              "         ...,\n",
              "         [109.],\n",
              "         [123.],\n",
              "         [146.]],\n",
              "\n",
              "        ...,\n",
              "\n",
              "        [[188.],\n",
              "         [188.],\n",
              "         [121.],\n",
              "         ...,\n",
              "         [185.],\n",
              "         [185.],\n",
              "         [186.]],\n",
              "\n",
              "        [[188.],\n",
              "         [187.],\n",
              "         [196.],\n",
              "         ...,\n",
              "         [186.],\n",
              "         [182.],\n",
              "         [187.]],\n",
              "\n",
              "        [[186.],\n",
              "         [184.],\n",
              "         [185.],\n",
              "         ...,\n",
              "         [193.],\n",
              "         [183.],\n",
              "         [184.]]],\n",
              "\n",
              "\n",
              "       [[[ 24.],\n",
              "         [ 32.],\n",
              "         [ 36.],\n",
              "         ...,\n",
              "         [173.],\n",
              "         [172.],\n",
              "         [173.]],\n",
              "\n",
              "        [[ 25.],\n",
              "         [ 34.],\n",
              "         [ 29.],\n",
              "         ...,\n",
              "         [173.],\n",
              "         [172.],\n",
              "         [173.]],\n",
              "\n",
              "        [[ 26.],\n",
              "         [ 29.],\n",
              "         [ 25.],\n",
              "         ...,\n",
              "         [172.],\n",
              "         [172.],\n",
              "         [174.]],\n",
              "\n",
              "        ...,\n",
              "\n",
              "        [[159.],\n",
              "         [185.],\n",
              "         [157.],\n",
              "         ...,\n",
              "         [157.],\n",
              "         [156.],\n",
              "         [153.]],\n",
              "\n",
              "        [[136.],\n",
              "         [157.],\n",
              "         [187.],\n",
              "         ...,\n",
              "         [152.],\n",
              "         [152.],\n",
              "         [150.]],\n",
              "\n",
              "        [[145.],\n",
              "         [130.],\n",
              "         [161.],\n",
              "         ...,\n",
              "         [142.],\n",
              "         [143.],\n",
              "         [142.]]],\n",
              "\n",
              "\n",
              "       ...,\n",
              "\n",
              "\n",
              "       [[[178.],\n",
              "         [174.],\n",
              "         [172.],\n",
              "         ...,\n",
              "         [ 78.],\n",
              "         [ 41.],\n",
              "         [ 57.]],\n",
              "\n",
              "        [[181.],\n",
              "         [178.],\n",
              "         [178.],\n",
              "         ...,\n",
              "         [126.],\n",
              "         [ 63.],\n",
              "         [ 64.]],\n",
              "\n",
              "        [[181.],\n",
              "         [176.],\n",
              "         [176.],\n",
              "         ...,\n",
              "         [177.],\n",
              "         [145.],\n",
              "         [ 82.]],\n",
              "\n",
              "        ...,\n",
              "\n",
              "        [[193.],\n",
              "         [191.],\n",
              "         [187.],\n",
              "         ...,\n",
              "         [  1.],\n",
              "         [  1.],\n",
              "         [  0.]],\n",
              "\n",
              "        [[193.],\n",
              "         [192.],\n",
              "         [191.],\n",
              "         ...,\n",
              "         [  0.],\n",
              "         [  0.],\n",
              "         [  0.]],\n",
              "\n",
              "        [[194.],\n",
              "         [191.],\n",
              "         [192.],\n",
              "         ...,\n",
              "         [  0.],\n",
              "         [  0.],\n",
              "         [  0.]]],\n",
              "\n",
              "\n",
              "       [[[ 17.],\n",
              "         [ 17.],\n",
              "         [ 16.],\n",
              "         ...,\n",
              "         [ 83.],\n",
              "         [114.],\n",
              "         [245.]],\n",
              "\n",
              "        [[ 18.],\n",
              "         [ 17.],\n",
              "         [ 16.],\n",
              "         ...,\n",
              "         [104.],\n",
              "         [136.],\n",
              "         [253.]],\n",
              "\n",
              "        [[ 19.],\n",
              "         [ 16.],\n",
              "         [ 17.],\n",
              "         ...,\n",
              "         [128.],\n",
              "         [152.],\n",
              "         [255.]],\n",
              "\n",
              "        ...,\n",
              "\n",
              "        [[  4.],\n",
              "         [ 21.],\n",
              "         [ 46.],\n",
              "         ...,\n",
              "         [186.],\n",
              "         [180.],\n",
              "         [187.]],\n",
              "\n",
              "        [[  5.],\n",
              "         [ 17.],\n",
              "         [ 41.],\n",
              "         ...,\n",
              "         [177.],\n",
              "         [172.],\n",
              "         [176.]],\n",
              "\n",
              "        [[ 20.],\n",
              "         [ 15.],\n",
              "         [ 22.],\n",
              "         ...,\n",
              "         [154.],\n",
              "         [133.],\n",
              "         [113.]]],\n",
              "\n",
              "\n",
              "       [[[ 30.],\n",
              "         [ 28.],\n",
              "         [ 28.],\n",
              "         ...,\n",
              "         [ 60.],\n",
              "         [ 50.],\n",
              "         [ 44.]],\n",
              "\n",
              "        [[ 30.],\n",
              "         [ 27.],\n",
              "         [ 28.],\n",
              "         ...,\n",
              "         [ 64.],\n",
              "         [ 52.],\n",
              "         [ 40.]],\n",
              "\n",
              "        [[ 31.],\n",
              "         [ 28.],\n",
              "         [ 30.],\n",
              "         ...,\n",
              "         [ 61.],\n",
              "         [ 54.],\n",
              "         [ 37.]],\n",
              "\n",
              "        ...,\n",
              "\n",
              "        [[104.],\n",
              "         [109.],\n",
              "         [110.],\n",
              "         ...,\n",
              "         [ 35.],\n",
              "         [ 30.],\n",
              "         [ 30.]],\n",
              "\n",
              "        [[102.],\n",
              "         [105.],\n",
              "         [108.],\n",
              "         ...,\n",
              "         [ 35.],\n",
              "         [ 31.],\n",
              "         [ 29.]],\n",
              "\n",
              "        [[ 93.],\n",
              "         [ 96.],\n",
              "         [100.],\n",
              "         ...,\n",
              "         [ 35.],\n",
              "         [ 30.],\n",
              "         [ 28.]]]], dtype=float32)"
            ]
          },
          "metadata": {
            "tags": []
          },
          "execution_count": 27
        }
      ]
    },
    {
      "cell_type": "code",
      "metadata": {
        "id": "V7ajO5OUMsaB"
      },
      "source": [
        "X = np.array(X)\n",
        "y = np.array(y)"
      ],
      "execution_count": 28,
      "outputs": []
    },
    {
      "cell_type": "code",
      "metadata": {
        "id": "KlCgFLBiMsaE"
      },
      "source": [
        "# Spliting The Dataframe In To Train, Test And Validation Data Frames\n",
        "\n",
        "from sklearn.model_selection import train_test_split\n",
        "\n",
        "X_train, X_Test, y_train, y_Test = train_test_split(X,y,test_size = 0.1, shuffle = True)\n",
        "X_val, X_Test, y_val, y_Test = train_test_split(X_Test,y_Test, test_size = 0.5, shuffle = True)\n"
      ],
      "execution_count": 29,
      "outputs": []
    },
    {
      "cell_type": "code",
      "metadata": {
        "id": "AbQdTcYCMsaF",
        "outputId": "265cefed-5d2f-4bd2-dcd7-55ceec279af2",
        "colab": {
          "base_uri": "https://localhost:8080/",
          "height": 34
        }
      },
      "source": [
        "print(X_val.shape, y_val.shape)"
      ],
      "execution_count": 30,
      "outputs": [
        {
          "output_type": "stream",
          "text": [
            "(1228, 48, 48, 1) (1228, 5)\n"
          ],
          "name": "stdout"
        }
      ]
    },
    {
      "cell_type": "code",
      "metadata": {
        "id": "Xs42C18EMsaH",
        "outputId": "46354dce-5932-440a-a8c9-025c0335b441",
        "colab": {
          "base_uri": "https://localhost:8080/",
          "height": 34
        }
      },
      "source": [
        "print(X_Test.shape, y_Test.shape)"
      ],
      "execution_count": 31,
      "outputs": [
        {
          "output_type": "stream",
          "text": [
            "(1229, 48, 48, 1) (1229, 5)\n"
          ],
          "name": "stdout"
        }
      ]
    },
    {
      "cell_type": "code",
      "metadata": {
        "id": "-DgSPRikMsaJ",
        "outputId": "9fb84f87-c391-4ce8-a956-ac894edd3dc7",
        "colab": {
          "base_uri": "https://localhost:8080/",
          "height": 34
        }
      },
      "source": [
        "print(X_train.shape, y_train.shape)"
      ],
      "execution_count": 32,
      "outputs": [
        {
          "output_type": "stream",
          "text": [
            "(22111, 48, 48, 1) (22111, 5)\n"
          ],
          "name": "stdout"
        }
      ]
    },
    {
      "cell_type": "code",
      "metadata": {
        "id": "Rvuv2vLDMsaL"
      },
      "source": [
        "# Image Pre-processing\n",
        "\n",
        "X_train = X_train/255\n",
        "X_val   = X_val /255\n",
        "X_Test  = X_Test/255"
      ],
      "execution_count": 33,
      "outputs": []
    },
    {
      "cell_type": "code",
      "metadata": {
        "id": "vfe747cpMsaN"
      },
      "source": [
        "train_datagen = ImageDataGenerator(\n",
        "rotation_range=15,\n",
        "    width_shift_range=0.1,\n",
        "    height_shift_range=0.1,\n",
        "    shear_range=0.1,\n",
        "    zoom_range=0.1,\n",
        "    fill_mode = \"nearest\"\n",
        ")\n"
      ],
      "execution_count": 34,
      "outputs": []
    },
    {
      "cell_type": "code",
      "metadata": {
        "id": "T6E4NIbpMsaP"
      },
      "source": [
        "train_datagen = ImageDataGenerator(\n",
        "rotation_range=15,\n",
        "    width_shift_range=0.1,\n",
        "    height_shift_range=0.1,\n",
        "    shear_range=0.1,\n",
        "    zoom_range=0.1,\n",
        "    horizontal_flip=True,\n",
        "    fill_mode = \"nearest\", \n",
        "    vertical_flip=True,\n",
        ")\n"
      ],
      "execution_count": 35,
      "outputs": []
    },
    {
      "cell_type": "markdown",
      "metadata": {
        "id": "xi7a_pjfMsaV"
      },
      "source": [
        "<h2> Building And Training Deep Learning Model For Facial Expression Classification</h2>"
      ]
    },
    {
      "cell_type": "code",
      "metadata": {
        "id": "k1S_diyFMsaV"
      },
      "source": [
        "def res_block(X, filter, stage):\n",
        "\n",
        "  # Convolutional_block\n",
        "  X_copy = X\n",
        "\n",
        "  f1 , f2, f3 = filter\n",
        "\n",
        "  # Main Path\n",
        "  X = Conv2D(f1, (1,1),strides = (1,1), name ='res_'+str(stage)+'_conv_a', kernel_initializer= glorot_uniform(seed = 0))(X)\n",
        "  X = MaxPool2D((2,2))(X)\n",
        "  X = BatchNormalization(axis =3, name = 'bn_'+str(stage)+'_conv_a')(X)\n",
        "  X = Activation('relu')(X) \n",
        "\n",
        "  X = Conv2D(f2, kernel_size = (3,3), strides =(1,1), padding = 'same', name ='res_'+str(stage)+'_conv_b', kernel_initializer= glorot_uniform(seed = 0))(X)\n",
        "  X = BatchNormalization(axis =3, name = 'bn_'+str(stage)+'_conv_b')(X)\n",
        "  X = Activation('relu')(X) \n",
        "\n",
        "  X = Conv2D(f3, kernel_size = (1,1), strides =(1,1),name ='res_'+str(stage)+'_conv_c', kernel_initializer= glorot_uniform(seed = 0))(X)\n",
        "  X = BatchNormalization(axis =3, name = 'bn_'+str(stage)+'_conv_c')(X)\n",
        "\n",
        "\n",
        "  # Short path\n",
        "  X_copy = Conv2D(f3, kernel_size = (1,1), strides =(1,1),name ='res_'+str(stage)+'_conv_copy', kernel_initializer= glorot_uniform(seed = 0))(X_copy)\n",
        "  X_copy = MaxPool2D((2,2))(X_copy)\n",
        "  X_copy = BatchNormalization(axis =3, name = 'bn_'+str(stage)+'_conv_copy')(X_copy)\n",
        "\n",
        "  # ADD\n",
        "  X = Add()([X,X_copy])\n",
        "  X = Activation('relu')(X)\n",
        "\n",
        "  # Identity Block 1\n",
        "  X_copy = X\n",
        "\n",
        "\n",
        "  # Main Path\n",
        "  X = Conv2D(f1, (1,1),strides = (1,1), name ='res_'+str(stage)+'_identity_1_a', kernel_initializer= glorot_uniform(seed = 0))(X)\n",
        "  X = BatchNormalization(axis =3, name = 'bn_'+str(stage)+'_identity_1_a')(X)\n",
        "  X = Activation('relu')(X) \n",
        "\n",
        "  X = Conv2D(f2, kernel_size = (3,3), strides =(1,1), padding = 'same', name ='res_'+str(stage)+'_identity_1_b', kernel_initializer= glorot_uniform(seed = 0))(X)\n",
        "  X = BatchNormalization(axis =3, name = 'bn_'+str(stage)+'_identity_1_b')(X)\n",
        "  X = Activation('relu')(X) \n",
        "\n",
        "  X = Conv2D(f3, kernel_size = (1,1), strides =(1,1),name ='res_'+str(stage)+'_identity_1_c', kernel_initializer= glorot_uniform(seed = 0))(X)\n",
        "  X = BatchNormalization(axis =3, name = 'bn_'+str(stage)+'_identity_1_c')(X)\n",
        "\n",
        "  # ADD\n",
        "  X = Add()([X,X_copy])\n",
        "  X = Activation('relu')(X)\n",
        "\n",
        "  # Identity Block 2\n",
        "  X_copy = X\n",
        "\n",
        "\n",
        "  # Main Path\n",
        "  X = Conv2D(f1, (1,1),strides = (1,1), name ='res_'+str(stage)+'_identity_2_a', kernel_initializer= glorot_uniform(seed = 0))(X)\n",
        "  X = BatchNormalization(axis =3, name = 'bn_'+str(stage)+'_identity_2_a')(X)\n",
        "  X = Activation('relu')(X) \n",
        "\n",
        "  X = Conv2D(f2, kernel_size = (3,3), strides =(1,1), padding = 'same', name ='res_'+str(stage)+'_identity_2_b', kernel_initializer= glorot_uniform(seed = 0))(X)\n",
        "  X = BatchNormalization(axis =3, name = 'bn_'+str(stage)+'_identity_2_b')(X)\n",
        "  X = Activation('relu')(X) \n",
        "\n",
        "  X = Conv2D(f3, kernel_size = (1,1), strides =(1,1),name ='res_'+str(stage)+'_identity_2_c', kernel_initializer= glorot_uniform(seed = 0))(X)\n",
        "  X = BatchNormalization(axis =3, name = 'bn_'+str(stage)+'_identity_2_c')(X)\n",
        "\n",
        "  # ADD\n",
        "  X = Add()([X,X_copy])\n",
        "  X = Activation('relu')(X)\n",
        "\n",
        "  return X"
      ],
      "execution_count": 36,
      "outputs": []
    },
    {
      "cell_type": "code",
      "metadata": {
        "id": "ZZa9GuZ1MsaX",
        "outputId": "6dfb6ae4-d1ed-4552-f2bc-65f3999a2684",
        "colab": {
          "base_uri": "https://localhost:8080/",
          "height": 1000
        }
      },
      "source": [
        "input_shape = (48, 48, 1)\n",
        "\n",
        "# Input tensor shape\n",
        "X_input = Input(input_shape)\n",
        "\n",
        "# Zero-padding\n",
        "X = ZeroPadding2D((3, 3))(X_input)\n",
        "\n",
        "# 1 - stage\n",
        "X = Conv2D(64, (7, 7), strides= (2, 2), name = 'conv1', kernel_initializer= glorot_uniform(seed = 0))(X)\n",
        "X = BatchNormalization(axis =3, name = 'bn_conv1')(X)\n",
        "X = Activation('relu')(X)\n",
        "X = MaxPooling2D((3, 3), strides= (2, 2))(X)\n",
        "\n",
        "# 2 - stage\n",
        "X = res_block(X, filter= [64, 64, 256], stage= 2)\n",
        "\n",
        "# 3 - stage\n",
        "X = res_block(X, filter= [128, 128, 512], stage= 3)\n",
        "\n",
        "# Average Pooling\n",
        "X = AveragePooling2D((2, 2), name = 'Averagea_Pooling')(X)\n",
        "\n",
        "# Final layer\n",
        "X = Flatten()(X)\n",
        "X = Dense(5, activation = 'softmax', name = 'Dense_final', kernel_initializer= glorot_uniform(seed=0))(X)\n",
        "\n",
        "model_emotion = Model( inputs= X_input, outputs = X, name = 'Custom Resnet')\n",
        "\n",
        "model_emotion.summary()"
      ],
      "execution_count": 37,
      "outputs": [
        {
          "output_type": "stream",
          "text": [
            "Model: \"Custom Resnet\"\n",
            "__________________________________________________________________________________________________\n",
            "Layer (type)                    Output Shape         Param #     Connected to                     \n",
            "==================================================================================================\n",
            "input_1 (InputLayer)            [(None, 48, 48, 1)]  0                                            \n",
            "__________________________________________________________________________________________________\n",
            "zero_padding2d (ZeroPadding2D)  (None, 54, 54, 1)    0           input_1[0][0]                    \n",
            "__________________________________________________________________________________________________\n",
            "conv1 (Conv2D)                  (None, 24, 24, 64)   3200        zero_padding2d[0][0]             \n",
            "__________________________________________________________________________________________________\n",
            "bn_conv1 (BatchNormalization)   (None, 24, 24, 64)   256         conv1[0][0]                      \n",
            "__________________________________________________________________________________________________\n",
            "activation (Activation)         (None, 24, 24, 64)   0           bn_conv1[0][0]                   \n",
            "__________________________________________________________________________________________________\n",
            "max_pooling2d (MaxPooling2D)    (None, 11, 11, 64)   0           activation[0][0]                 \n",
            "__________________________________________________________________________________________________\n",
            "res_2_conv_a (Conv2D)           (None, 11, 11, 64)   4160        max_pooling2d[0][0]              \n",
            "__________________________________________________________________________________________________\n",
            "max_pooling2d_1 (MaxPooling2D)  (None, 5, 5, 64)     0           res_2_conv_a[0][0]               \n",
            "__________________________________________________________________________________________________\n",
            "bn_2_conv_a (BatchNormalization (None, 5, 5, 64)     256         max_pooling2d_1[0][0]            \n",
            "__________________________________________________________________________________________________\n",
            "activation_1 (Activation)       (None, 5, 5, 64)     0           bn_2_conv_a[0][0]                \n",
            "__________________________________________________________________________________________________\n",
            "res_2_conv_b (Conv2D)           (None, 5, 5, 64)     36928       activation_1[0][0]               \n",
            "__________________________________________________________________________________________________\n",
            "bn_2_conv_b (BatchNormalization (None, 5, 5, 64)     256         res_2_conv_b[0][0]               \n",
            "__________________________________________________________________________________________________\n",
            "activation_2 (Activation)       (None, 5, 5, 64)     0           bn_2_conv_b[0][0]                \n",
            "__________________________________________________________________________________________________\n",
            "res_2_conv_copy (Conv2D)        (None, 11, 11, 256)  16640       max_pooling2d[0][0]              \n",
            "__________________________________________________________________________________________________\n",
            "res_2_conv_c (Conv2D)           (None, 5, 5, 256)    16640       activation_2[0][0]               \n",
            "__________________________________________________________________________________________________\n",
            "max_pooling2d_2 (MaxPooling2D)  (None, 5, 5, 256)    0           res_2_conv_copy[0][0]            \n",
            "__________________________________________________________________________________________________\n",
            "bn_2_conv_c (BatchNormalization (None, 5, 5, 256)    1024        res_2_conv_c[0][0]               \n",
            "__________________________________________________________________________________________________\n",
            "bn_2_conv_copy (BatchNormalizat (None, 5, 5, 256)    1024        max_pooling2d_2[0][0]            \n",
            "__________________________________________________________________________________________________\n",
            "add (Add)                       (None, 5, 5, 256)    0           bn_2_conv_c[0][0]                \n",
            "                                                                 bn_2_conv_copy[0][0]             \n",
            "__________________________________________________________________________________________________\n",
            "activation_3 (Activation)       (None, 5, 5, 256)    0           add[0][0]                        \n",
            "__________________________________________________________________________________________________\n",
            "res_2_identity_1_a (Conv2D)     (None, 5, 5, 64)     16448       activation_3[0][0]               \n",
            "__________________________________________________________________________________________________\n",
            "bn_2_identity_1_a (BatchNormali (None, 5, 5, 64)     256         res_2_identity_1_a[0][0]         \n",
            "__________________________________________________________________________________________________\n",
            "activation_4 (Activation)       (None, 5, 5, 64)     0           bn_2_identity_1_a[0][0]          \n",
            "__________________________________________________________________________________________________\n",
            "res_2_identity_1_b (Conv2D)     (None, 5, 5, 64)     36928       activation_4[0][0]               \n",
            "__________________________________________________________________________________________________\n",
            "bn_2_identity_1_b (BatchNormali (None, 5, 5, 64)     256         res_2_identity_1_b[0][0]         \n",
            "__________________________________________________________________________________________________\n",
            "activation_5 (Activation)       (None, 5, 5, 64)     0           bn_2_identity_1_b[0][0]          \n",
            "__________________________________________________________________________________________________\n",
            "res_2_identity_1_c (Conv2D)     (None, 5, 5, 256)    16640       activation_5[0][0]               \n",
            "__________________________________________________________________________________________________\n",
            "bn_2_identity_1_c (BatchNormali (None, 5, 5, 256)    1024        res_2_identity_1_c[0][0]         \n",
            "__________________________________________________________________________________________________\n",
            "add_1 (Add)                     (None, 5, 5, 256)    0           bn_2_identity_1_c[0][0]          \n",
            "                                                                 activation_3[0][0]               \n",
            "__________________________________________________________________________________________________\n",
            "activation_6 (Activation)       (None, 5, 5, 256)    0           add_1[0][0]                      \n",
            "__________________________________________________________________________________________________\n",
            "res_2_identity_2_a (Conv2D)     (None, 5, 5, 64)     16448       activation_6[0][0]               \n",
            "__________________________________________________________________________________________________\n",
            "bn_2_identity_2_a (BatchNormali (None, 5, 5, 64)     256         res_2_identity_2_a[0][0]         \n",
            "__________________________________________________________________________________________________\n",
            "activation_7 (Activation)       (None, 5, 5, 64)     0           bn_2_identity_2_a[0][0]          \n",
            "__________________________________________________________________________________________________\n",
            "res_2_identity_2_b (Conv2D)     (None, 5, 5, 64)     36928       activation_7[0][0]               \n",
            "__________________________________________________________________________________________________\n",
            "bn_2_identity_2_b (BatchNormali (None, 5, 5, 64)     256         res_2_identity_2_b[0][0]         \n",
            "__________________________________________________________________________________________________\n",
            "activation_8 (Activation)       (None, 5, 5, 64)     0           bn_2_identity_2_b[0][0]          \n",
            "__________________________________________________________________________________________________\n",
            "res_2_identity_2_c (Conv2D)     (None, 5, 5, 256)    16640       activation_8[0][0]               \n",
            "__________________________________________________________________________________________________\n",
            "bn_2_identity_2_c (BatchNormali (None, 5, 5, 256)    1024        res_2_identity_2_c[0][0]         \n",
            "__________________________________________________________________________________________________\n",
            "add_2 (Add)                     (None, 5, 5, 256)    0           bn_2_identity_2_c[0][0]          \n",
            "                                                                 activation_6[0][0]               \n",
            "__________________________________________________________________________________________________\n",
            "activation_9 (Activation)       (None, 5, 5, 256)    0           add_2[0][0]                      \n",
            "__________________________________________________________________________________________________\n",
            "res_3_conv_a (Conv2D)           (None, 5, 5, 128)    32896       activation_9[0][0]               \n",
            "__________________________________________________________________________________________________\n",
            "max_pooling2d_3 (MaxPooling2D)  (None, 2, 2, 128)    0           res_3_conv_a[0][0]               \n",
            "__________________________________________________________________________________________________\n",
            "bn_3_conv_a (BatchNormalization (None, 2, 2, 128)    512         max_pooling2d_3[0][0]            \n",
            "__________________________________________________________________________________________________\n",
            "activation_10 (Activation)      (None, 2, 2, 128)    0           bn_3_conv_a[0][0]                \n",
            "__________________________________________________________________________________________________\n",
            "res_3_conv_b (Conv2D)           (None, 2, 2, 128)    147584      activation_10[0][0]              \n",
            "__________________________________________________________________________________________________\n",
            "bn_3_conv_b (BatchNormalization (None, 2, 2, 128)    512         res_3_conv_b[0][0]               \n",
            "__________________________________________________________________________________________________\n",
            "activation_11 (Activation)      (None, 2, 2, 128)    0           bn_3_conv_b[0][0]                \n",
            "__________________________________________________________________________________________________\n",
            "res_3_conv_copy (Conv2D)        (None, 5, 5, 512)    131584      activation_9[0][0]               \n",
            "__________________________________________________________________________________________________\n",
            "res_3_conv_c (Conv2D)           (None, 2, 2, 512)    66048       activation_11[0][0]              \n",
            "__________________________________________________________________________________________________\n",
            "max_pooling2d_4 (MaxPooling2D)  (None, 2, 2, 512)    0           res_3_conv_copy[0][0]            \n",
            "__________________________________________________________________________________________________\n",
            "bn_3_conv_c (BatchNormalization (None, 2, 2, 512)    2048        res_3_conv_c[0][0]               \n",
            "__________________________________________________________________________________________________\n",
            "bn_3_conv_copy (BatchNormalizat (None, 2, 2, 512)    2048        max_pooling2d_4[0][0]            \n",
            "__________________________________________________________________________________________________\n",
            "add_3 (Add)                     (None, 2, 2, 512)    0           bn_3_conv_c[0][0]                \n",
            "                                                                 bn_3_conv_copy[0][0]             \n",
            "__________________________________________________________________________________________________\n",
            "activation_12 (Activation)      (None, 2, 2, 512)    0           add_3[0][0]                      \n",
            "__________________________________________________________________________________________________\n",
            "res_3_identity_1_a (Conv2D)     (None, 2, 2, 128)    65664       activation_12[0][0]              \n",
            "__________________________________________________________________________________________________\n",
            "bn_3_identity_1_a (BatchNormali (None, 2, 2, 128)    512         res_3_identity_1_a[0][0]         \n",
            "__________________________________________________________________________________________________\n",
            "activation_13 (Activation)      (None, 2, 2, 128)    0           bn_3_identity_1_a[0][0]          \n",
            "__________________________________________________________________________________________________\n",
            "res_3_identity_1_b (Conv2D)     (None, 2, 2, 128)    147584      activation_13[0][0]              \n",
            "__________________________________________________________________________________________________\n",
            "bn_3_identity_1_b (BatchNormali (None, 2, 2, 128)    512         res_3_identity_1_b[0][0]         \n",
            "__________________________________________________________________________________________________\n",
            "activation_14 (Activation)      (None, 2, 2, 128)    0           bn_3_identity_1_b[0][0]          \n",
            "__________________________________________________________________________________________________\n",
            "res_3_identity_1_c (Conv2D)     (None, 2, 2, 512)    66048       activation_14[0][0]              \n",
            "__________________________________________________________________________________________________\n",
            "bn_3_identity_1_c (BatchNormali (None, 2, 2, 512)    2048        res_3_identity_1_c[0][0]         \n",
            "__________________________________________________________________________________________________\n",
            "add_4 (Add)                     (None, 2, 2, 512)    0           bn_3_identity_1_c[0][0]          \n",
            "                                                                 activation_12[0][0]              \n",
            "__________________________________________________________________________________________________\n",
            "activation_15 (Activation)      (None, 2, 2, 512)    0           add_4[0][0]                      \n",
            "__________________________________________________________________________________________________\n",
            "res_3_identity_2_a (Conv2D)     (None, 2, 2, 128)    65664       activation_15[0][0]              \n",
            "__________________________________________________________________________________________________\n",
            "bn_3_identity_2_a (BatchNormali (None, 2, 2, 128)    512         res_3_identity_2_a[0][0]         \n",
            "__________________________________________________________________________________________________\n",
            "activation_16 (Activation)      (None, 2, 2, 128)    0           bn_3_identity_2_a[0][0]          \n",
            "__________________________________________________________________________________________________\n",
            "res_3_identity_2_b (Conv2D)     (None, 2, 2, 128)    147584      activation_16[0][0]              \n",
            "__________________________________________________________________________________________________\n",
            "bn_3_identity_2_b (BatchNormali (None, 2, 2, 128)    512         res_3_identity_2_b[0][0]         \n",
            "__________________________________________________________________________________________________\n",
            "activation_17 (Activation)      (None, 2, 2, 128)    0           bn_3_identity_2_b[0][0]          \n",
            "__________________________________________________________________________________________________\n",
            "res_3_identity_2_c (Conv2D)     (None, 2, 2, 512)    66048       activation_17[0][0]              \n",
            "__________________________________________________________________________________________________\n",
            "bn_3_identity_2_c (BatchNormali (None, 2, 2, 512)    2048        res_3_identity_2_c[0][0]         \n",
            "__________________________________________________________________________________________________\n",
            "add_5 (Add)                     (None, 2, 2, 512)    0           bn_3_identity_2_c[0][0]          \n",
            "                                                                 activation_15[0][0]              \n",
            "__________________________________________________________________________________________________\n",
            "activation_18 (Activation)      (None, 2, 2, 512)    0           add_5[0][0]                      \n",
            "__________________________________________________________________________________________________\n",
            "Averagea_Pooling (AveragePoolin (None, 1, 1, 512)    0           activation_18[0][0]              \n",
            "__________________________________________________________________________________________________\n",
            "flatten (Flatten)               (None, 512)          0           Averagea_Pooling[0][0]           \n",
            "__________________________________________________________________________________________________\n",
            "Dense_final (Dense)             (None, 5)            2565        flatten[0][0]                    \n",
            "==================================================================================================\n",
            "Total params: 1,174,021\n",
            "Trainable params: 1,165,445\n",
            "Non-trainable params: 8,576\n",
            "__________________________________________________________________________________________________\n"
          ],
          "name": "stdout"
        }
      ]
    },
    {
      "cell_type": "code",
      "metadata": {
        "id": "yukdoJsRMsaZ"
      },
      "source": [
        "# Training The Network\n",
        "model_emotion.compile(optimizer = \"Adam\", loss = \"categorical_crossentropy\", metrics = [\"accuracy\"])"
      ],
      "execution_count": 38,
      "outputs": []
    },
    {
      "cell_type": "code",
      "metadata": {
        "id": "X--9olfnMsab"
      },
      "source": [
        "# Using early stopping to exit training if validation loss is not decreasing even after certain epochs (patience)\n",
        "earlystopping = EarlyStopping(monitor = 'val_loss', mode = 'min', verbose = 1, patience = 20)\n",
        "\n",
        "# Saving the best model with lower validation loss\n",
        "checkpointer = ModelCheckpoint(filepath = \"FacialExpression_weights.hdf5\", verbose = 1, save_best_only=True)"
      ],
      "execution_count": 39,
      "outputs": []
    },
    {
      "cell_type": "code",
      "metadata": {
        "id": "cGr6QhScMsad",
        "outputId": "675ffcc3-3663-4118-c95f-e1bca3f34b31",
        "colab": {
          "base_uri": "https://localhost:8080/",
          "height": 1000
        }
      },
      "source": [
        "history = model_emotion.fit(train_datagen.flow(X_train, y_train, batch_size=64),\n",
        "\tvalidation_data=(X_val, y_val), steps_per_epoch=len(X_train) // 64,\n",
        "\tepochs= 100, callbacks=[checkpointer, earlystopping])"
      ],
      "execution_count": null,
      "outputs": [
        {
          "output_type": "stream",
          "text": [
            "Train for 345 steps, validate on 1228 samples\n",
            "Epoch 1/100\n",
            "344/345 [============================>.] - ETA: 0s - loss: 1.4703 - accuracy: 0.3954\n",
            "Epoch 00001: val_loss improved from inf to 1.62249, saving model to FacialExpression_weights.hdf5\n",
            "345/345 [==============================] - 180s 523ms/step - loss: 1.4694 - accuracy: 0.3957 - val_loss: 1.6225 - val_accuracy: 0.3339\n",
            "Epoch 2/100\n",
            "344/345 [============================>.] - ETA: 0s - loss: 1.2741 - accuracy: 0.4856\n",
            "Epoch 00002: val_loss did not improve from 1.62249\n",
            "345/345 [==============================] - 174s 504ms/step - loss: 1.2737 - accuracy: 0.4857 - val_loss: 1.6845 - val_accuracy: 0.3453\n",
            "Epoch 3/100\n",
            "344/345 [============================>.] - ETA: 0s - loss: 1.1640 - accuracy: 0.5242\n",
            "Epoch 00003: val_loss improved from 1.62249 to 1.60878, saving model to FacialExpression_weights.hdf5\n",
            "345/345 [==============================] - 176s 509ms/step - loss: 1.1642 - accuracy: 0.5240 - val_loss: 1.6088 - val_accuracy: 0.4072\n",
            "Epoch 4/100\n",
            "344/345 [============================>.] - ETA: 0s - loss: 1.1070 - accuracy: 0.5504\n",
            "Epoch 00004: val_loss improved from 1.60878 to 1.13560, saving model to FacialExpression_weights.hdf5\n",
            "345/345 [==============================] - 176s 510ms/step - loss: 1.1070 - accuracy: 0.5504 - val_loss: 1.1356 - val_accuracy: 0.5301\n",
            "Epoch 5/100\n",
            "344/345 [============================>.] - ETA: 0s - loss: 1.0600 - accuracy: 0.5720\n",
            "Epoch 00005: val_loss did not improve from 1.13560\n",
            "345/345 [==============================] - 176s 509ms/step - loss: 1.0593 - accuracy: 0.5723 - val_loss: 1.2203 - val_accuracy: 0.4780\n",
            "Epoch 6/100\n",
            "344/345 [============================>.] - ETA: 0s - loss: 1.0010 - accuracy: 0.5978\n",
            "Epoch 00006: val_loss did not improve from 1.13560\n",
            "345/345 [==============================] - 176s 510ms/step - loss: 1.0011 - accuracy: 0.5977 - val_loss: 1.1369 - val_accuracy: 0.5098\n",
            "Epoch 7/100\n",
            "344/345 [============================>.] - ETA: 0s - loss: 0.9642 - accuracy: 0.6137\n",
            "Epoch 00007: val_loss improved from 1.13560 to 1.11479, saving model to FacialExpression_weights.hdf5\n",
            "345/345 [==============================] - 175s 507ms/step - loss: 0.9649 - accuracy: 0.6135 - val_loss: 1.1148 - val_accuracy: 0.5350\n",
            "Epoch 8/100\n",
            "344/345 [============================>.] - ETA: 0s - loss: 0.9405 - accuracy: 0.6249\n",
            "Epoch 00008: val_loss improved from 1.11479 to 1.11242, saving model to FacialExpression_weights.hdf5\n",
            "345/345 [==============================] - 173s 503ms/step - loss: 0.9400 - accuracy: 0.6249 - val_loss: 1.1124 - val_accuracy: 0.5342\n",
            "Epoch 9/100\n",
            "344/345 [============================>.] - ETA: 0s - loss: 0.9161 - accuracy: 0.6348\n",
            "Epoch 00009: val_loss improved from 1.11242 to 1.01709, saving model to FacialExpression_weights.hdf5\n",
            "345/345 [==============================] - 175s 508ms/step - loss: 0.9158 - accuracy: 0.6347 - val_loss: 1.0171 - val_accuracy: 0.5839\n",
            "Epoch 10/100\n",
            "344/345 [============================>.] - ETA: 0s - loss: 0.8932 - accuracy: 0.6444\n",
            "Epoch 00010: val_loss did not improve from 1.01709\n",
            "345/345 [==============================] - 176s 509ms/step - loss: 0.8933 - accuracy: 0.6443 - val_loss: 1.0626 - val_accuracy: 0.5782\n",
            "Epoch 11/100\n",
            "344/345 [============================>.] - ETA: 0s - loss: 0.8720 - accuracy: 0.6505\n",
            "Epoch 00011: val_loss did not improve from 1.01709\n",
            "345/345 [==============================] - 175s 506ms/step - loss: 0.8719 - accuracy: 0.6503 - val_loss: 1.0222 - val_accuracy: 0.5765\n",
            "Epoch 12/100\n",
            "344/345 [============================>.] - ETA: 0s - loss: 0.8548 - accuracy: 0.6610\n",
            "Epoch 00012: val_loss did not improve from 1.01709\n",
            "345/345 [==============================] - 175s 508ms/step - loss: 0.8552 - accuracy: 0.6609 - val_loss: 1.0825 - val_accuracy: 0.5489\n",
            "Epoch 13/100\n",
            "344/345 [============================>.] - ETA: 0s - loss: 0.8481 - accuracy: 0.6662\n",
            "Epoch 00013: val_loss improved from 1.01709 to 0.95650, saving model to FacialExpression_weights.hdf5\n",
            "345/345 [==============================] - 175s 507ms/step - loss: 0.8486 - accuracy: 0.6658 - val_loss: 0.9565 - val_accuracy: 0.6221\n",
            "Epoch 14/100\n",
            "344/345 [============================>.] - ETA: 0s - loss: 0.8362 - accuracy: 0.6692\n",
            "Epoch 00014: val_loss did not improve from 0.95650\n",
            "345/345 [==============================] - 174s 505ms/step - loss: 0.8355 - accuracy: 0.6696 - val_loss: 1.2420 - val_accuracy: 0.5090\n",
            "Epoch 15/100\n",
            "344/345 [============================>.] - ETA: 0s - loss: 0.8210 - accuracy: 0.6733\n",
            "Epoch 00015: val_loss improved from 0.95650 to 0.91477, saving model to FacialExpression_weights.hdf5\n",
            "345/345 [==============================] - 175s 508ms/step - loss: 0.8209 - accuracy: 0.6734 - val_loss: 0.9148 - val_accuracy: 0.6360\n",
            "Epoch 16/100\n",
            "344/345 [============================>.] - ETA: 0s - loss: 0.8114 - accuracy: 0.6814\n",
            "Epoch 00016: val_loss did not improve from 0.91477\n",
            "345/345 [==============================] - 174s 506ms/step - loss: 0.8117 - accuracy: 0.6815 - val_loss: 0.9829 - val_accuracy: 0.5977\n",
            "Epoch 17/100\n",
            "344/345 [============================>.] - ETA: 0s - loss: 0.8023 - accuracy: 0.6834\n",
            "Epoch 00017: val_loss improved from 0.91477 to 0.88261, saving model to FacialExpression_weights.hdf5\n",
            "345/345 [==============================] - 175s 507ms/step - loss: 0.8025 - accuracy: 0.6836 - val_loss: 0.8826 - val_accuracy: 0.6450\n",
            "Epoch 18/100\n",
            "344/345 [============================>.] - ETA: 0s - loss: 0.7897 - accuracy: 0.6925\n",
            "Epoch 00018: val_loss did not improve from 0.88261\n",
            "345/345 [==============================] - 174s 506ms/step - loss: 0.7902 - accuracy: 0.6924 - val_loss: 0.9747 - val_accuracy: 0.5928\n",
            "Epoch 19/100\n",
            "344/345 [============================>.] - ETA: 0s - loss: 0.7873 - accuracy: 0.6929\n",
            "Epoch 00019: val_loss improved from 0.88261 to 0.84619, saving model to FacialExpression_weights.hdf5\n",
            "345/345 [==============================] - 176s 509ms/step - loss: 0.7874 - accuracy: 0.6929 - val_loss: 0.8462 - val_accuracy: 0.6637\n",
            "Epoch 20/100\n",
            "344/345 [============================>.] - ETA: 0s - loss: 0.7767 - accuracy: 0.6961\n",
            "Epoch 00020: val_loss improved from 0.84619 to 0.81774, saving model to FacialExpression_weights.hdf5\n",
            "345/345 [==============================] - 175s 508ms/step - loss: 0.7766 - accuracy: 0.6961 - val_loss: 0.8177 - val_accuracy: 0.6865\n",
            "Epoch 21/100\n",
            "344/345 [============================>.] - ETA: 0s - loss: 0.7644 - accuracy: 0.7010\n",
            "Epoch 00021: val_loss improved from 0.81774 to 0.81364, saving model to FacialExpression_weights.hdf5\n",
            "345/345 [==============================] - 175s 506ms/step - loss: 0.7646 - accuracy: 0.7010 - val_loss: 0.8136 - val_accuracy: 0.6726\n",
            "Epoch 22/100\n",
            "344/345 [============================>.] - ETA: 0s - loss: 0.7604 - accuracy: 0.7044\n",
            "Epoch 00022: val_loss did not improve from 0.81364\n",
            "345/345 [==============================] - 173s 503ms/step - loss: 0.7605 - accuracy: 0.7044 - val_loss: 0.8349 - val_accuracy: 0.6751\n",
            "Epoch 23/100\n",
            "344/345 [============================>.] - ETA: 0s - loss: 0.7476 - accuracy: 0.7113\n",
            "Epoch 00023: val_loss did not improve from 0.81364\n",
            "345/345 [==============================] - 173s 501ms/step - loss: 0.7473 - accuracy: 0.7115 - val_loss: 0.8398 - val_accuracy: 0.6596\n",
            "Epoch 24/100\n",
            "344/345 [============================>.] - ETA: 0s - loss: 0.7450 - accuracy: 0.7116\n",
            "Epoch 00024: val_loss did not improve from 0.81364\n",
            "345/345 [==============================] - 174s 506ms/step - loss: 0.7456 - accuracy: 0.7114 - val_loss: 0.9209 - val_accuracy: 0.6197\n",
            "Epoch 25/100\n",
            "344/345 [============================>.] - ETA: 0s - loss: 0.7427 - accuracy: 0.7092\n",
            "Epoch 00025: val_loss did not improve from 0.81364\n",
            "345/345 [==============================] - 176s 509ms/step - loss: 0.7425 - accuracy: 0.7093 - val_loss: 0.9595 - val_accuracy: 0.6002\n",
            "Epoch 26/100\n",
            "344/345 [============================>.] - ETA: 0s - loss: 0.7313 - accuracy: 0.7140\n",
            "Epoch 00026: val_loss did not improve from 0.81364\n",
            "345/345 [==============================] - 174s 505ms/step - loss: 0.7320 - accuracy: 0.7139 - val_loss: 0.8986 - val_accuracy: 0.6425\n",
            "Epoch 27/100\n",
            "344/345 [============================>.] - ETA: 0s - loss: 0.7226 - accuracy: 0.7190\n",
            "Epoch 00027: val_loss improved from 0.81364 to 0.74967, saving model to FacialExpression_weights.hdf5\n",
            "345/345 [==============================] - 174s 506ms/step - loss: 0.7225 - accuracy: 0.7191 - val_loss: 0.7497 - val_accuracy: 0.7011\n",
            "Epoch 28/100\n",
            "344/345 [============================>.] - ETA: 0s - loss: 0.7178 - accuracy: 0.7223\n",
            "Epoch 00028: val_loss did not improve from 0.74967\n",
            "345/345 [==============================] - 174s 506ms/step - loss: 0.7182 - accuracy: 0.7220 - val_loss: 0.9146 - val_accuracy: 0.6295\n",
            "Epoch 29/100\n",
            "344/345 [============================>.] - ETA: 0s - loss: 0.7173 - accuracy: 0.7217\n",
            "Epoch 00029: val_loss did not improve from 0.74967\n",
            "345/345 [==============================] - 174s 505ms/step - loss: 0.7174 - accuracy: 0.7215 - val_loss: 0.9308 - val_accuracy: 0.6466\n",
            "Epoch 30/100\n",
            "344/345 [============================>.] - ETA: 0s - loss: 0.7136 - accuracy: 0.7252\n",
            "Epoch 00030: val_loss did not improve from 0.74967\n",
            "345/345 [==============================] - 173s 501ms/step - loss: 0.7136 - accuracy: 0.7251 - val_loss: 0.8571 - val_accuracy: 0.6775\n",
            "Epoch 31/100\n",
            "344/345 [============================>.] - ETA: 0s - loss: 0.7028 - accuracy: 0.7245\n",
            "Epoch 00031: val_loss did not improve from 0.74967\n",
            "345/345 [==============================] - 173s 503ms/step - loss: 0.7033 - accuracy: 0.7243 - val_loss: 0.9166 - val_accuracy: 0.6368\n",
            "Epoch 32/100\n",
            "344/345 [============================>.] - ETA: 0s - loss: 0.7027 - accuracy: 0.7285\n",
            "Epoch 00032: val_loss did not improve from 0.74967\n",
            "345/345 [==============================] - 173s 502ms/step - loss: 0.7022 - accuracy: 0.7287 - val_loss: 0.9575 - val_accuracy: 0.6181\n",
            "Epoch 33/100\n",
            "344/345 [============================>.] - ETA: 0s - loss: 0.6984 - accuracy: 0.7275\n",
            "Epoch 00033: val_loss did not improve from 0.74967\n",
            "345/345 [==============================] - 172s 499ms/step - loss: 0.6977 - accuracy: 0.7279 - val_loss: 0.8428 - val_accuracy: 0.6840\n",
            "Epoch 34/100\n",
            "344/345 [============================>.] - ETA: 0s - loss: 0.6896 - accuracy: 0.7336\n",
            "Epoch 00034: val_loss did not improve from 0.74967\n",
            "345/345 [==============================] - 172s 498ms/step - loss: 0.6896 - accuracy: 0.7337 - val_loss: 0.8100 - val_accuracy: 0.6840\n",
            "Epoch 35/100\n",
            "344/345 [============================>.] - ETA: 0s - loss: 0.6834 - accuracy: 0.7359\n",
            "Epoch 00035: val_loss did not improve from 0.74967\n",
            "345/345 [==============================] - 172s 499ms/step - loss: 0.6833 - accuracy: 0.7358 - val_loss: 0.7678 - val_accuracy: 0.6995\n",
            "Epoch 36/100\n",
            "344/345 [============================>.] - ETA: 0s - loss: 0.6883 - accuracy: 0.7332\n",
            "Epoch 00036: val_loss did not improve from 0.74967\n",
            "345/345 [==============================] - 173s 503ms/step - loss: 0.6882 - accuracy: 0.7331 - val_loss: 0.8279 - val_accuracy: 0.6800\n",
            "Epoch 37/100\n",
            "344/345 [============================>.] - ETA: 0s - loss: 0.6732 - accuracy: 0.7378\n",
            "Epoch 00037: val_loss did not improve from 0.74967\n",
            "345/345 [==============================] - 174s 503ms/step - loss: 0.6735 - accuracy: 0.7375 - val_loss: 0.7524 - val_accuracy: 0.7093\n",
            "Epoch 38/100\n",
            "344/345 [============================>.] - ETA: 0s - loss: 0.6704 - accuracy: 0.7408\n",
            "Epoch 00038: val_loss did not improve from 0.74967\n",
            "345/345 [==============================] - 174s 504ms/step - loss: 0.6704 - accuracy: 0.7407 - val_loss: 0.8192 - val_accuracy: 0.6873\n",
            "Epoch 39/100\n",
            "344/345 [============================>.] - ETA: 0s - loss: 0.6670 - accuracy: 0.7417\n",
            "Epoch 00039: val_loss did not improve from 0.74967\n",
            "345/345 [==============================] - 174s 504ms/step - loss: 0.6668 - accuracy: 0.7419 - val_loss: 0.7647 - val_accuracy: 0.6922\n",
            "Epoch 40/100\n",
            "344/345 [============================>.] - ETA: 0s - loss: 0.6590 - accuracy: 0.7481\n",
            "Epoch 00040: val_loss did not improve from 0.74967\n",
            "345/345 [==============================] - 174s 505ms/step - loss: 0.6591 - accuracy: 0.7481 - val_loss: 0.8590 - val_accuracy: 0.6547\n",
            "Epoch 41/100\n",
            "344/345 [============================>.] - ETA: 0s - loss: 0.6530 - accuracy: 0.7451\n",
            "Epoch 00041: val_loss did not improve from 0.74967\n",
            "345/345 [==============================] - 175s 506ms/step - loss: 0.6526 - accuracy: 0.7452 - val_loss: 0.9909 - val_accuracy: 0.6132\n",
            "Epoch 42/100\n",
            "344/345 [============================>.] - ETA: 0s - loss: 0.6578 - accuracy: 0.7439\n",
            "Epoch 00042: val_loss did not improve from 0.74967\n",
            "345/345 [==============================] - 175s 507ms/step - loss: 0.6575 - accuracy: 0.7440 - val_loss: 0.7928 - val_accuracy: 0.6881\n",
            "Epoch 43/100\n",
            "344/345 [============================>.] - ETA: 0s - loss: 0.6528 - accuracy: 0.7482\n",
            "Epoch 00043: val_loss did not improve from 0.74967\n",
            "345/345 [==============================] - 175s 507ms/step - loss: 0.6523 - accuracy: 0.7485 - val_loss: 0.8545 - val_accuracy: 0.6555\n",
            "Epoch 44/100\n",
            "344/345 [============================>.] - ETA: 0s - loss: 0.6498 - accuracy: 0.7484\n",
            "Epoch 00044: val_loss did not improve from 0.74967\n",
            "345/345 [==============================] - 175s 507ms/step - loss: 0.6492 - accuracy: 0.7487 - val_loss: 0.7930 - val_accuracy: 0.6946\n",
            "Epoch 45/100\n",
            "344/345 [============================>.] - ETA: 0s - loss: 0.6397 - accuracy: 0.7508\n",
            "Epoch 00045: val_loss did not improve from 0.74967\n",
            "345/345 [==============================] - 175s 508ms/step - loss: 0.6403 - accuracy: 0.7508 - val_loss: 0.8064 - val_accuracy: 0.7020\n",
            "Epoch 46/100\n",
            "344/345 [============================>.] - ETA: 0s - loss: 0.6411 - accuracy: 0.7510\n",
            "Epoch 00046: val_loss did not improve from 0.74967\n",
            "345/345 [==============================] - 175s 507ms/step - loss: 0.6409 - accuracy: 0.7510 - val_loss: 0.8154 - val_accuracy: 0.6743\n",
            "Epoch 47/100\n",
            "344/345 [============================>.] - ETA: 0s - loss: 0.6358 - accuracy: 0.7514\n",
            "Epoch 00047: val_loss improved from 0.74967 to 0.74241, saving model to FacialExpression_weights.hdf5\n",
            "345/345 [==============================] - 175s 508ms/step - loss: 0.6357 - accuracy: 0.7515 - val_loss: 0.7424 - val_accuracy: 0.7068\n",
            "Epoch 48/100\n",
            "344/345 [============================>.] - ETA: 0s - loss: 0.6359 - accuracy: 0.7499\n",
            "Epoch 00048: val_loss did not improve from 0.74241\n",
            "345/345 [==============================] - 175s 509ms/step - loss: 0.6359 - accuracy: 0.7501 - val_loss: 0.7854 - val_accuracy: 0.6963\n",
            "Epoch 49/100\n",
            "344/345 [============================>.] - ETA: 0s - loss: 0.6301 - accuracy: 0.7575\n",
            "Epoch 00049: val_loss did not improve from 0.74241\n",
            "345/345 [==============================] - 175s 508ms/step - loss: 0.6305 - accuracy: 0.7574 - val_loss: 0.8368 - val_accuracy: 0.6726\n",
            "Epoch 50/100\n",
            "344/345 [============================>.] - ETA: 0s - loss: 0.6249 - accuracy: 0.7596\n",
            "Epoch 00050: val_loss did not improve from 0.74241\n",
            "345/345 [==============================] - 175s 507ms/step - loss: 0.6250 - accuracy: 0.7596 - val_loss: 0.7530 - val_accuracy: 0.6971\n",
            "Epoch 51/100\n",
            "344/345 [============================>.] - ETA: 0s - loss: 0.6233 - accuracy: 0.7599\n",
            "Epoch 00051: val_loss did not improve from 0.74241\n",
            "345/345 [==============================] - 175s 508ms/step - loss: 0.6235 - accuracy: 0.7601 - val_loss: 0.7984 - val_accuracy: 0.6865\n",
            "Epoch 52/100\n",
            "344/345 [============================>.] - ETA: 0s - loss: 0.6195 - accuracy: 0.7578\n",
            "Epoch 00052: val_loss did not improve from 0.74241\n",
            "345/345 [==============================] - 175s 507ms/step - loss: 0.6193 - accuracy: 0.7578 - val_loss: 0.8516 - val_accuracy: 0.6816\n",
            "Epoch 53/100\n",
            "344/345 [============================>.] - ETA: 0s - loss: 0.6088 - accuracy: 0.7634\n",
            "Epoch 00053: val_loss did not improve from 0.74241\n",
            "345/345 [==============================] - 177s 513ms/step - loss: 0.6088 - accuracy: 0.7634 - val_loss: 0.8642 - val_accuracy: 0.6678\n",
            "Epoch 54/100\n",
            "344/345 [============================>.] - ETA: 0s - loss: 0.6076 - accuracy: 0.7650\n",
            "Epoch 00054: val_loss did not improve from 0.74241\n",
            "345/345 [==============================] - 177s 512ms/step - loss: 0.6076 - accuracy: 0.7651 - val_loss: 0.7832 - val_accuracy: 0.6995\n",
            "Epoch 55/100\n",
            "344/345 [============================>.] - ETA: 0s - loss: 0.6075 - accuracy: 0.7647\n",
            "Epoch 00055: val_loss did not improve from 0.74241\n",
            "345/345 [==============================] - 176s 511ms/step - loss: 0.6077 - accuracy: 0.7646 - val_loss: 0.8168 - val_accuracy: 0.6930\n",
            "Epoch 56/100\n",
            "344/345 [============================>.] - ETA: 0s - loss: 0.6042 - accuracy: 0.7665\n",
            "Epoch 00056: val_loss did not improve from 0.74241\n",
            "345/345 [==============================] - 176s 511ms/step - loss: 0.6041 - accuracy: 0.7666 - val_loss: 0.7527 - val_accuracy: 0.7166\n",
            "Epoch 57/100\n",
            "344/345 [============================>.] - ETA: 0s - loss: 0.6058 - accuracy: 0.7681\n",
            "Epoch 00057: val_loss did not improve from 0.74241\n",
            "345/345 [==============================] - 177s 512ms/step - loss: 0.6059 - accuracy: 0.7681 - val_loss: 0.7952 - val_accuracy: 0.6906\n",
            "Epoch 58/100\n",
            "344/345 [============================>.] - ETA: 0s - loss: 0.6005 - accuracy: 0.7659\n",
            "Epoch 00058: val_loss did not improve from 0.74241\n",
            "345/345 [==============================] - 176s 509ms/step - loss: 0.6003 - accuracy: 0.7660 - val_loss: 0.7461 - val_accuracy: 0.7003\n",
            "Epoch 59/100\n",
            "344/345 [============================>.] - ETA: 0s - loss: 0.5893 - accuracy: 0.7715\n",
            "Epoch 00059: val_loss did not improve from 0.74241\n",
            "345/345 [==============================] - 175s 508ms/step - loss: 0.5895 - accuracy: 0.7716 - val_loss: 0.8151 - val_accuracy: 0.6906\n",
            "Epoch 60/100\n",
            "344/345 [============================>.] - ETA: 0s - loss: 0.5912 - accuracy: 0.7711\n",
            "Epoch 00060: val_loss did not improve from 0.74241\n",
            "345/345 [==============================] - 176s 511ms/step - loss: 0.5913 - accuracy: 0.7712 - val_loss: 0.8671 - val_accuracy: 0.6621\n",
            "Epoch 61/100\n",
            "344/345 [============================>.] - ETA: 0s - loss: 0.5868 - accuracy: 0.7707\n",
            "Epoch 00061: val_loss improved from 0.74241 to 0.72196, saving model to FacialExpression_weights.hdf5\n",
            "345/345 [==============================] - 176s 511ms/step - loss: 0.5868 - accuracy: 0.7709 - val_loss: 0.7220 - val_accuracy: 0.7207\n",
            "Epoch 62/100\n",
            "344/345 [============================>.] - ETA: 0s - loss: 0.5839 - accuracy: 0.7754\n",
            "Epoch 00062: val_loss did not improve from 0.72196\n",
            "345/345 [==============================] - 176s 511ms/step - loss: 0.5838 - accuracy: 0.7753 - val_loss: 0.8429 - val_accuracy: 0.6767\n",
            "Epoch 63/100\n",
            "344/345 [============================>.] - ETA: 0s - loss: 0.5795 - accuracy: 0.7774\n",
            "Epoch 00063: val_loss did not improve from 0.72196\n",
            "345/345 [==============================] - 177s 512ms/step - loss: 0.5795 - accuracy: 0.7773 - val_loss: 0.8792 - val_accuracy: 0.6792\n",
            "Epoch 64/100\n",
            "344/345 [============================>.] - ETA: 0s - loss: 0.5749 - accuracy: 0.7776\n",
            "Epoch 00064: val_loss did not improve from 0.72196\n",
            "345/345 [==============================] - 177s 512ms/step - loss: 0.5746 - accuracy: 0.7777 - val_loss: 0.8546 - val_accuracy: 0.6759\n",
            "Epoch 65/100\n",
            "344/345 [============================>.] - ETA: 0s - loss: 0.5779 - accuracy: 0.7741\n",
            "Epoch 00065: val_loss did not improve from 0.72196\n",
            "345/345 [==============================] - 176s 510ms/step - loss: 0.5779 - accuracy: 0.7741 - val_loss: 0.7623 - val_accuracy: 0.7044\n",
            "Epoch 66/100\n",
            "344/345 [============================>.] - ETA: 0s - loss: 0.5717 - accuracy: 0.7786\n",
            "Epoch 00066: val_loss did not improve from 0.72196\n",
            "345/345 [==============================] - 176s 511ms/step - loss: 0.5720 - accuracy: 0.7786 - val_loss: 0.7541 - val_accuracy: 0.7150\n",
            "Epoch 67/100\n",
            "344/345 [============================>.] - ETA: 0s - loss: 0.5712 - accuracy: 0.7789\n",
            "Epoch 00067: val_loss did not improve from 0.72196\n",
            "345/345 [==============================] - 176s 511ms/step - loss: 0.5716 - accuracy: 0.7789 - val_loss: 0.8117 - val_accuracy: 0.6849\n",
            "Epoch 68/100\n",
            "344/345 [============================>.] - ETA: 0s - loss: 0.5649 - accuracy: 0.7816\n",
            "Epoch 00068: val_loss did not improve from 0.72196\n",
            "345/345 [==============================] - 176s 511ms/step - loss: 0.5649 - accuracy: 0.7814 - val_loss: 0.7831 - val_accuracy: 0.7068\n",
            "Epoch 69/100\n",
            "344/345 [============================>.] - ETA: 0s - loss: 0.5627 - accuracy: 0.7830\n",
            "Epoch 00069: val_loss did not improve from 0.72196\n",
            "345/345 [==============================] - 177s 513ms/step - loss: 0.5627 - accuracy: 0.7830 - val_loss: 0.7652 - val_accuracy: 0.7142\n",
            "Epoch 70/100\n",
            "344/345 [============================>.] - ETA: 0s - loss: 0.5650 - accuracy: 0.7796\n",
            "Epoch 00070: val_loss did not improve from 0.72196\n",
            "345/345 [==============================] - 177s 513ms/step - loss: 0.5657 - accuracy: 0.7790 - val_loss: 0.7354 - val_accuracy: 0.7199\n",
            "Epoch 71/100\n",
            "344/345 [============================>.] - ETA: 0s - loss: 0.5628 - accuracy: 0.7821\n",
            "Epoch 00071: val_loss did not improve from 0.72196\n",
            "345/345 [==============================] - 176s 511ms/step - loss: 0.5631 - accuracy: 0.7821 - val_loss: 0.7528 - val_accuracy: 0.7003\n",
            "Epoch 72/100\n",
            "344/345 [============================>.] - ETA: 0s - loss: 0.5557 - accuracy: 0.7845\n",
            "Epoch 00072: val_loss did not improve from 0.72196\n",
            "345/345 [==============================] - 177s 513ms/step - loss: 0.5556 - accuracy: 0.7846 - val_loss: 0.7519 - val_accuracy: 0.7215\n",
            "Epoch 73/100\n",
            "344/345 [============================>.] - ETA: 0s - loss: 0.5599 - accuracy: 0.7847\n",
            "Epoch 00073: val_loss did not improve from 0.72196\n",
            "345/345 [==============================] - 177s 514ms/step - loss: 0.5597 - accuracy: 0.7850 - val_loss: 0.7799 - val_accuracy: 0.7125\n",
            "Epoch 74/100\n",
            "344/345 [============================>.] - ETA: 0s - loss: 0.5518 - accuracy: 0.7849\n",
            "Epoch 00074: val_loss did not improve from 0.72196\n",
            "345/345 [==============================] - 177s 513ms/step - loss: 0.5517 - accuracy: 0.7851 - val_loss: 0.7472 - val_accuracy: 0.7134\n",
            "Epoch 75/100\n",
            "344/345 [============================>.] - ETA: 0s - loss: 0.5444 - accuracy: 0.7915\n",
            "Epoch 00075: val_loss improved from 0.72196 to 0.69834, saving model to FacialExpression_weights.hdf5\n",
            "345/345 [==============================] - 177s 514ms/step - loss: 0.5442 - accuracy: 0.7916 - val_loss: 0.6983 - val_accuracy: 0.7264\n",
            "Epoch 76/100\n",
            "344/345 [============================>.] - ETA: 0s - loss: 0.5475 - accuracy: 0.7898\n",
            "Epoch 00076: val_loss did not improve from 0.69834\n",
            "345/345 [==============================] - 177s 514ms/step - loss: 0.5481 - accuracy: 0.7899 - val_loss: 0.8089 - val_accuracy: 0.6954\n",
            "Epoch 77/100\n",
            "344/345 [============================>.] - ETA: 0s - loss: 0.5441 - accuracy: 0.7864\n",
            "Epoch 00077: val_loss did not improve from 0.69834\n",
            "345/345 [==============================] - 177s 514ms/step - loss: 0.5444 - accuracy: 0.7861 - val_loss: 0.7632 - val_accuracy: 0.7109\n",
            "Epoch 78/100\n",
            "344/345 [============================>.] - ETA: 0s - loss: 0.5440 - accuracy: 0.7864\n",
            "Epoch 00078: val_loss did not improve from 0.69834\n",
            "345/345 [==============================] - 176s 511ms/step - loss: 0.5440 - accuracy: 0.7864 - val_loss: 0.7677 - val_accuracy: 0.7150\n",
            "Epoch 79/100\n",
            "344/345 [============================>.] - ETA: 0s - loss: 0.5398 - accuracy: 0.7898\n",
            "Epoch 00079: val_loss did not improve from 0.69834\n",
            "345/345 [==============================] - 177s 513ms/step - loss: 0.5400 - accuracy: 0.7897 - val_loss: 0.7815 - val_accuracy: 0.7020\n",
            "Epoch 80/100\n",
            "344/345 [============================>.] - ETA: 0s - loss: 0.5418 - accuracy: 0.7884\n",
            "Epoch 00080: val_loss did not improve from 0.69834\n",
            "345/345 [==============================] - 176s 510ms/step - loss: 0.5417 - accuracy: 0.7883 - val_loss: 0.8935 - val_accuracy: 0.6840\n",
            "Epoch 81/100\n",
            "344/345 [============================>.] - ETA: 0s - loss: 0.5357 - accuracy: 0.7912\n",
            "Epoch 00081: val_loss did not improve from 0.69834\n",
            "345/345 [==============================] - 175s 508ms/step - loss: 0.5358 - accuracy: 0.7911 - val_loss: 0.7357 - val_accuracy: 0.7158\n",
            "Epoch 82/100\n",
            "344/345 [============================>.] - ETA: 0s - loss: 0.5340 - accuracy: 0.7936\n",
            "Epoch 00082: val_loss did not improve from 0.69834\n",
            "345/345 [==============================] - 175s 508ms/step - loss: 0.5345 - accuracy: 0.7933 - val_loss: 0.7492 - val_accuracy: 0.7134\n",
            "Epoch 83/100\n",
            "344/345 [============================>.] - ETA: 0s - loss: 0.5291 - accuracy: 0.7942\n",
            "Epoch 00083: val_loss did not improve from 0.69834\n",
            "345/345 [==============================] - 175s 508ms/step - loss: 0.5286 - accuracy: 0.7943 - val_loss: 0.7626 - val_accuracy: 0.7134\n",
            "Epoch 84/100\n",
            "344/345 [============================>.] - ETA: 0s - loss: 0.5271 - accuracy: 0.7960\n",
            "Epoch 00084: val_loss did not improve from 0.69834\n",
            "345/345 [==============================] - 176s 509ms/step - loss: 0.5270 - accuracy: 0.7960 - val_loss: 0.7656 - val_accuracy: 0.7117\n",
            "Epoch 85/100\n",
            "344/345 [============================>.] - ETA: 0s - loss: 0.5242 - accuracy: 0.7949\n",
            "Epoch 00085: val_loss did not improve from 0.69834\n",
            "345/345 [==============================] - 175s 508ms/step - loss: 0.5244 - accuracy: 0.7948 - val_loss: 0.8157 - val_accuracy: 0.7093\n",
            "Epoch 86/100\n",
            "344/345 [============================>.] - ETA: 0s - loss: 0.5181 - accuracy: 0.7977\n",
            "Epoch 00086: val_loss did not improve from 0.69834\n",
            "345/345 [==============================] - 176s 510ms/step - loss: 0.5179 - accuracy: 0.7976 - val_loss: 0.7689 - val_accuracy: 0.7191\n",
            "Epoch 87/100\n",
            "344/345 [============================>.] - ETA: 0s - loss: 0.5214 - accuracy: 0.7964\n",
            "Epoch 00087: val_loss did not improve from 0.69834\n",
            "345/345 [==============================] - 175s 508ms/step - loss: 0.5210 - accuracy: 0.7967 - val_loss: 0.7681 - val_accuracy: 0.7117\n",
            "Epoch 88/100\n",
            "344/345 [============================>.] - ETA: 0s - loss: 0.5113 - accuracy: 0.8023\n",
            "Epoch 00088: val_loss did not improve from 0.69834\n",
            "345/345 [==============================] - 175s 508ms/step - loss: 0.5111 - accuracy: 0.8024 - val_loss: 0.7668 - val_accuracy: 0.7068\n",
            "Epoch 89/100\n",
            "344/345 [============================>.] - ETA: 0s - loss: 0.5146 - accuracy: 0.8008\n",
            "Epoch 00089: val_loss did not improve from 0.69834\n",
            "345/345 [==============================] - 175s 507ms/step - loss: 0.5142 - accuracy: 0.8009 - val_loss: 0.7563 - val_accuracy: 0.7223\n",
            "Epoch 90/100\n",
            "344/345 [============================>.] - ETA: 0s - loss: 0.5065 - accuracy: 0.8025\n",
            "Epoch 00090: val_loss did not improve from 0.69834\n",
            "345/345 [==============================] - 174s 506ms/step - loss: 0.5066 - accuracy: 0.8025 - val_loss: 0.8139 - val_accuracy: 0.7011\n",
            "Epoch 91/100\n",
            "344/345 [============================>.] - ETA: 0s - loss: 0.5024 - accuracy: 0.8046\n",
            "Epoch 00091: val_loss did not improve from 0.69834\n",
            "345/345 [==============================] - 174s 505ms/step - loss: 0.5024 - accuracy: 0.8045 - val_loss: 0.9601 - val_accuracy: 0.6653\n",
            "Epoch 92/100\n",
            "344/345 [============================>.] - ETA: 0s - loss: 0.5039 - accuracy: 0.8070\n",
            "Epoch 00092: val_loss did not improve from 0.69834\n",
            "345/345 [==============================] - 175s 507ms/step - loss: 0.5038 - accuracy: 0.8069 - val_loss: 0.7969 - val_accuracy: 0.7101\n",
            "Epoch 93/100\n",
            "344/345 [============================>.] - ETA: 0s - loss: 0.5111 - accuracy: 0.8028\n",
            "Epoch 00093: val_loss did not improve from 0.69834\n",
            "345/345 [==============================] - 175s 508ms/step - loss: 0.5115 - accuracy: 0.8025 - val_loss: 0.7057 - val_accuracy: 0.7419\n",
            "Epoch 94/100\n",
            "344/345 [============================>.] - ETA: 0s - loss: 0.4950 - accuracy: 0.8058\n",
            "Epoch 00094: val_loss did not improve from 0.69834\n",
            "345/345 [==============================] - 175s 507ms/step - loss: 0.4950 - accuracy: 0.8058 - val_loss: 0.7783 - val_accuracy: 0.7134\n",
            "Epoch 95/100\n",
            "344/345 [============================>.] - ETA: 0s - loss: 0.5020 - accuracy: 0.8060\n",
            "Epoch 00095: val_loss did not improve from 0.69834\n",
            "345/345 [==============================] - 175s 506ms/step - loss: 0.5016 - accuracy: 0.8062 - val_loss: 0.9251 - val_accuracy: 0.6629\n",
            "Epoch 00095: early stopping\n"
          ],
          "name": "stdout"
        }
      ]
    },
    {
      "cell_type": "code",
      "metadata": {
        "id": "3y3twJR7Msah"
      },
      "source": [
        "# Saving the model architecture to json file for future use\n",
        "\n",
        "model_json = model_emotion.to_json()\n",
        "with open(\"Emotion-model.json\",\"w\") as json_file:\n",
        "  json_file.write(model_json)"
      ],
      "execution_count": null,
      "outputs": []
    },
    {
      "cell_type": "markdown",
      "metadata": {
        "id": "m1Y_6lzEMsan"
      },
      "source": [
        "<h2> Assessing The Performance Of Trained Facial Expression Classifier Model</h2>"
      ]
    },
    {
      "cell_type": "code",
      "metadata": {
        "id": "EGoeR1TXMsan"
      },
      "source": [
        "with open('Emotion-model.json', 'r') as json_file:\n",
        "    json_savedModel= json_file.read()\n",
        "    \n",
        "# load the model architecture \n",
        "model_emotion = tf.keras.models.model_from_json(json_savedModel)\n",
        "model_emotion.load_weights('FacialExpression_weights.hdf5')\n",
        "model_emotion.compile(optimizer = \"Adam\", loss = \"categorical_crossentropy\", metrics = [\"accuracy\"])"
      ],
      "execution_count": null,
      "outputs": []
    },
    {
      "cell_type": "code",
      "metadata": {
        "id": "J-6dn42gMsaq",
        "outputId": "f4de51dd-98f9-4ac3-abd4-a2f514ac51cb",
        "colab": {
          "base_uri": "https://localhost:8080/",
          "height": 70
        }
      },
      "source": [
        "score = model_emotion.evaluate(X_Test, y_Test)\n",
        "print('Test Accuracy: {}'.format(score[1]))"
      ],
      "execution_count": null,
      "outputs": [
        {
          "output_type": "stream",
          "text": [
            "\r1229/1 [======================================================================================================================================================================================================================================================================================================================================================================================================================================================================================================================================================================================================================================================================================================================================================================================================================================================================================================================================================================================================================================================================================================================================================================================================================================================================================================================================================================================================================================================================================================================================================================================================================================================================================================================================================================================================================================================================================================================================================================================================================================================================================================================================================================================================================================================================================================================================================================================================================================================================================================================================================================================================================================================================================================================================================================================================================================================================================================================================================================================================================================================================================================================================================================================================================================================================================================================================================================================================================================================================================================================================================================================================================================================================================================================================================================================================================================================================================================================================================================================================================================================================================================================================================================================================================================================================================================================================================================================================================================================================================================================================================================================================================================================================================================================================================================================================================================================================================================================================================================================================================================================================================================================================================================================================================================================================================================================================================================================================================================================================================================================================================================================================================================================================================================================================================================================================================================================================================================================================================================================================================================================================================================================================================================================================================================================================================================================================================================================================================================================================================================================================================================================================================================================================================================================================================================================================================================================================================================================================================================================================================================================================================================================================================================================================================================================================================================================================================================================================================================================================================================================================================================================================================================================================================================================================================================================================================================================================================================================================================================================================================================================================================================================================================================================================================================================================================================================================================================================================================================================================================================================================================================================================================================================================================================================================================================================================================================================================================================================================================================================================================================================================================================================================================================================================================================================================================================================================================================================================================================================================================================================================================================================================================================================================================================================================================================================================================================================================================================================================================================================================================================================================================================================================================================================================================================================================================================================================================================================================================================================================================================================================================================================================================================================================================================================================================================================================================================================================================================================================================================================================================================================================================================================================================================================================================================================================================================================================================================================================================================================================================================================================================================================================================================================================================================================================================================================================================================================================================================================================================================================================================================================================================================================================================================================================================================================================================================================================================================================================================================================================================================================================================================================================================================================================================================================================================================================================================================================================================================================================================================================================================================================================================================================================================================================================================================================================================================================================================================================================================================================================================================================================================================================================================================================================================================================================================================================================================================================================================================================================================================================================================================================================================================================================================================================================================================================================================================================================================================================================================================================================================================================================================================================================================================================================================================================================================================================================================================================================================================================================================================================================================================================================================================================================================================================================================================================================================================================================================================================================================================================================================================================================================================================================================================================================================================================================================================================================================================================================================================================================================================================================================================================================================================================================================================================================================================================================================================================================================================================================================================================================================================================================================================================================================================================================================================================================================================================================================================================================================================================================================================================================================================================================================================================================================================================================================================================================================================================================================================================================================================================================================================================================================================================================================================================================================================================================================================================================================================================================================================================================================================================================================================================================================================================================================================================================================================================================================================================================================================================================================================================================================================================================================================================================================================================================================================================================================================================================================================================================================================================================================================================================================================================================================================================================================================================================================================================================================================================================================================================================================================================================================================================================================================================================================================================================================================================================================================================================================================================================================================================================================================================================================================================================================================================================================================================================================================================================================================================================================================================================================================================================================================================================================================================================================================================================================================================================================================================================================================================================================================================================================================================================================================================================================================================================================================================================================================================================================================================================================================================================================================================================================================================================================================================================================================================================================================================================================================================================================================================================================================================================================================================================================================================================================================================================================================================================================================================================================================================================================================================================================================================================================================================================================================================================================================================================================================================================================================================================================================================================================================================================================================================================================================================================================================================================================================================================================================================================================================================================================================================================================================================================================================================================================================================================================================================================================================================================================================================================================================================================================================================================================================================================================================================================================================================================================================================================================================================================================================================================================================================================================================================================================================================================================================================================================================================================================================================================================================================================================================================================================================================================================================================================================================================================================================================================================================================================================================================================================================================================================================================================================================================================================================================================================================================================================================================================================================================================================================================================================================================================================================================================================================================================================================================================================================================================================================================================================================================================================================================================================================================================================================================================================================================================================================================================================================================================================================================================================================================================================================================================================================================================================================================================================================================================================================================================================================================================================================================================================================================================================================================================================================================================================================================================================================================================================================================================================================================================================================================================================================================================================================================================================================================================================================================================================================================================================================================================================================================================================================================================================================================================================================================================================================================================================================================================================================================================================================================================================================================================================================================================================================================================================================================================================================================================================================================================================================================================================================================================================================================================================================================================================================================================================================================================================================================================================================================================================================================================================================================================================================================================================================================================================================================================================================================================================================================================================================================================================================================================================================================================================================================================================================================================================================================================================================================================================================================================================================================================================================================================================================================================================================================================================================================================================================================================================================================================================================================================================================================================================================================================================================================================================================================================================================================================================================================================================================================================================================================================================================================================================================================================================================================================================================================================================================================================================================================================================================================================================================================================================================================================================================================================================================================================================================================================================================================================================================================================================================================================================================================================================================================================================================================================================================================================================================================================================================================================================================================================================================================================================================================================================================================================================================================================================================================================================================================================================================================================================================================================================================================================================================================================================================================================================================================================================================================================================================================================================================================================================================================================================================================================================================================================================================================================================================================================================================================================================================================================================================================================================================================================================================================================================================================================================================================================================================================================================================================================================================================================================================================================================================================================================================================================================================================================================================================================================================================================================================================================================================================================================================================================================================================================================================================================================================================================================================================================================================================================================================================================================================================================================================================================================================================================================================================================================================================================================================================================================================================================================================================================================================================================================================================================================================================================================================================================================================================================================================================================================================================================================================================================================================================================================================================================================================================================================================================================================================================================================================================================================================================================================================================================================================================================================================================================================================================================================================================================================================================================================================================================================================================================================================================================================================================================] - 3s 2ms/sample - loss: 0.4565 - accuracy: 0.7583\n",
            "Test Accuracy: 0.7583401203155518\n"
          ],
          "name": "stdout"
        }
      ]
    },
    {
      "cell_type": "code",
      "metadata": {
        "id": "h_VpORXPMsau",
        "outputId": "bdf14fe3-8fb1-44c0-9fc7-17d396f4fd30",
        "colab": {
          "base_uri": "https://localhost:8080/",
          "height": 34
        }
      },
      "source": [
        "history.history.keys()"
      ],
      "execution_count": null,
      "outputs": [
        {
          "output_type": "execute_result",
          "data": {
            "text/plain": [
              "dict_keys(['loss', 'accuracy', 'val_loss', 'val_accuracy'])"
            ]
          },
          "metadata": {
            "tags": []
          },
          "execution_count": 43
        }
      ]
    },
    {
      "cell_type": "code",
      "metadata": {
        "id": "6bV5ViivMsaw"
      },
      "source": [
        "accuracy = history.history['accuracy']\n",
        "val_accuracy = history.history['val_accuracy']\n",
        "loss = history.history['loss']\n",
        "val_loss = history.history['val_loss']"
      ],
      "execution_count": null,
      "outputs": []
    },
    {
      "cell_type": "code",
      "metadata": {
        "id": "VdPlhQ4RMsay",
        "outputId": "3b6fbe5d-8a0f-4246-c37f-d70a15ea8506",
        "colab": {
          "base_uri": "https://localhost:8080/",
          "height": 298
        }
      },
      "source": [
        "epochs = range(len(accuracy))\n",
        "\n",
        "plt.plot(epochs, accuracy, 'bo', label='Training Accuracy')\n",
        "plt.plot(epochs, val_accuracy, 'b', label='Validation Accuracy')\n",
        "plt.title('Training and Validation Accuracy')\n",
        "plt.legend()"
      ],
      "execution_count": null,
      "outputs": [
        {
          "output_type": "execute_result",
          "data": {
            "text/plain": [
              "<matplotlib.legend.Legend at 0x7f1a230915f8>"
            ]
          },
          "metadata": {
            "tags": []
          },
          "execution_count": 45
        },
        {
          "output_type": "display_data",
          "data": {
            "image/png": "[encoded data removed]",
            "text/plain": [
              "<Figure size 432x288 with 1 Axes>"
            ]
          },
          "metadata": {
            "tags": [],
            "needs_background": "light"
          }
        }
      ]
    },
    {
      "cell_type": "code",
      "metadata": {
        "id": "f54YDAn5Msaz",
        "outputId": "45ba637e-da2b-4d50-a3dd-84fa14305489",
        "colab": {
          "base_uri": "https://localhost:8080/",
          "height": 298
        }
      },
      "source": [
        "plt.plot(epochs, loss, 'ro', label='Training loss')\n",
        "plt.plot(epochs, val_loss, 'r', label='Validation loss')\n",
        "plt.title('Training and Validation loss')\n",
        "plt.legend()"
      ],
      "execution_count": null,
      "outputs": [
        {
          "output_type": "execute_result",
          "data": {
            "text/plain": [
              "<matplotlib.legend.Legend at 0x7f1a22fa6438>"
            ]
          },
          "metadata": {
            "tags": []
          },
          "execution_count": 46
        },
        {
          "output_type": "display_data",
          "data": {
            "image/png": "[encoded data removed]",
            "text/plain": [
              "<Figure size 432x288 with 1 Axes>"
            ]
          },
          "metadata": {
            "tags": [],
            "needs_background": "light"
          }
        }
      ]
    },
    {
      "cell_type": "code",
      "metadata": {
        "id": "ojHjvr7iMsa1"
      },
      "source": [
        "predicted_classes = np.argmax(model_emotion.predict(X_Test), axis=-1)\n",
        "y_true = np.argmax(y_Test, axis=-1)"
      ],
      "execution_count": null,
      "outputs": []
    },
    {
      "cell_type": "code",
      "metadata": {
        "id": "aLBOJ95oMsa3",
        "outputId": "3eead409-63e9-47a9-de2b-1ca58684fc39",
        "colab": {
          "base_uri": "https://localhost:8080/",
          "height": 34
        }
      },
      "source": [
        "y_true.shape"
      ],
      "execution_count": null,
      "outputs": [
        {
          "output_type": "execute_result",
          "data": {
            "text/plain": [
              "(1229,)"
            ]
          },
          "metadata": {
            "tags": []
          },
          "execution_count": 48
        }
      ]
    },
    {
      "cell_type": "code",
      "metadata": {
        "id": "m85HmsUjMsa5",
        "outputId": "8e951765-25f4-4068-8391-25ab2f789e61",
        "colab": {
          "base_uri": "https://localhost:8080/",
          "height": 609
        }
      },
      "source": [
        "from sklearn.metrics import confusion_matrix\n",
        "cm = confusion_matrix(y_true, predicted_classes)\n",
        "plt.figure(figsize = (10, 10))\n",
        "sns.heatmap(cm, annot = True, cbar = False)"
      ],
      "execution_count": null,
      "outputs": [
        {
          "output_type": "execute_result",
          "data": {
            "text/plain": [
              "<matplotlib.axes._subplots.AxesSubplot at 0x7f1a5b778fd0>"
            ]
          },
          "metadata": {
            "tags": []
          },
          "execution_count": 49
        },
        {
          "output_type": "display_data",
          "data": {
            "image/png": "[encoded data removed]",
            "text/plain": [
              "<Figure size 720x720 with 1 Axes>"
            ]
          },
          "metadata": {
            "tags": [],
            "needs_background": "light"
          }
        }
      ]
    },
    {
      "cell_type": "code",
      "metadata": {
        "id": "MIYbgy0_Msa9",
        "outputId": "bc07bd4d-97e5-423f-82ea-69a7de0dd1d4",
        "colab": {
          "base_uri": "https://localhost:8080/",
          "height": 1000
        }
      },
      "source": [
        "L = 5\n",
        "W = 5\n",
        "\n",
        "fig, axes = plt.subplots(L, W, figsize = (24, 24))\n",
        "axes = axes.ravel()\n",
        "\n",
        "for i in np.arange(0, L*W):\n",
        "    axes[i].imshow(X_Test[i].reshape(48,48), cmap = 'gray')\n",
        "    axes[i].set_title('Prediction = {}\\n True = {}'.format(label_to_text[predicted_classes[i]], label_to_text[y_true[i]]))\n",
        "    axes[i].axis('off')\n",
        "\n",
        "plt.subplots_adjust(wspace = 1)   "
      ],
      "execution_count": null,
      "outputs": [
        {
          "output_type": "display_data",
          "data": {
            "image/png": "[encoded data removed]",
            "text/plain": [
              "<Figure size 1728x1728 with 25 Axes>"
            ]
          },
          "metadata": {
            "tags": [],
            "needs_background": "light"
          }
        }
      ]
    },
    {
      "cell_type": "code",
      "metadata": {
        "id": "rT4y5yVhMsa-",
        "outputId": "b2de9c83-badd-431e-9159-d50ff95a985e",
        "colab": {
          "base_uri": "https://localhost:8080/",
          "height": 218
        }
      },
      "source": [
        "from sklearn.metrics import classification_report\n",
        "print(classification_report(y_true, predicted_classes))"
      ],
      "execution_count": null,
      "outputs": [
        {
          "output_type": "stream",
          "text": [
            "              precision    recall  f1-score   support\n",
            "\n",
            "           0       0.67      0.61      0.64       260\n",
            "           1       0.53      0.35      0.42        23\n",
            "           2       0.64      0.73      0.68       288\n",
            "           3       0.86      0.87      0.86       469\n",
            "           4       0.84      0.80      0.82       189\n",
            "\n",
            "    accuracy                           0.76      1229\n",
            "   macro avg       0.71      0.67      0.68      1229\n",
            "weighted avg       0.76      0.76      0.76      1229\n",
            "\n"
          ],
          "name": "stdout"
        }
      ]
    }
  ]
}